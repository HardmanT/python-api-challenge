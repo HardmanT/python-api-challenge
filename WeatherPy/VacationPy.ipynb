{
 "cells": [
  {
   "cell_type": "markdown",
   "metadata": {},
   "source": [
    "# VacationPy\n",
    "---\n",
    "\n",
    "## Starter Code to Import Libraries and Load the Weather and Coordinates Data"
   ]
  },
  {
   "cell_type": "code",
   "execution_count": 1,
   "metadata": {},
   "outputs": [
    {
     "data": {
      "application/javascript": [
       "(function(root) {\n",
       "  function now() {\n",
       "    return new Date();\n",
       "  }\n",
       "\n",
       "  var force = true;\n",
       "  var py_version = '3.2.1'.replace('rc', '-rc.').replace('.dev', '-dev.');\n",
       "  var is_dev = py_version.indexOf(\"+\") !== -1 || py_version.indexOf(\"-\") !== -1;\n",
       "  var reloading = false;\n",
       "  var Bokeh = root.Bokeh;\n",
       "  var bokeh_loaded = Bokeh != null && (Bokeh.version === py_version || (Bokeh.versions !== undefined && Bokeh.versions.has(py_version)));\n",
       "\n",
       "  if (typeof (root._bokeh_timeout) === \"undefined\" || force) {\n",
       "    root._bokeh_timeout = Date.now() + 5000;\n",
       "    root._bokeh_failed_load = false;\n",
       "  }\n",
       "\n",
       "  function run_callbacks() {\n",
       "    try {\n",
       "      root._bokeh_onload_callbacks.forEach(function(callback) {\n",
       "        if (callback != null)\n",
       "          callback();\n",
       "      });\n",
       "    } finally {\n",
       "      delete root._bokeh_onload_callbacks;\n",
       "    }\n",
       "    console.debug(\"Bokeh: all callbacks have finished\");\n",
       "  }\n",
       "\n",
       "  function load_libs(css_urls, js_urls, js_modules, js_exports, callback) {\n",
       "    if (css_urls == null) css_urls = [];\n",
       "    if (js_urls == null) js_urls = [];\n",
       "    if (js_modules == null) js_modules = [];\n",
       "    if (js_exports == null) js_exports = {};\n",
       "\n",
       "    root._bokeh_onload_callbacks.push(callback);\n",
       "\n",
       "    if (root._bokeh_is_loading > 0) {\n",
       "      console.debug(\"Bokeh: BokehJS is being loaded, scheduling callback at\", now());\n",
       "      return null;\n",
       "    }\n",
       "    if (js_urls.length === 0 && js_modules.length === 0 && Object.keys(js_exports).length === 0) {\n",
       "      run_callbacks();\n",
       "      return null;\n",
       "    }\n",
       "    if (!reloading) {\n",
       "      console.debug(\"Bokeh: BokehJS not loaded, scheduling load and callback at\", now());\n",
       "    }\n",
       "\n",
       "    function on_load() {\n",
       "      root._bokeh_is_loading--;\n",
       "      if (root._bokeh_is_loading === 0) {\n",
       "        console.debug(\"Bokeh: all BokehJS libraries/stylesheets loaded\");\n",
       "        run_callbacks()\n",
       "      }\n",
       "    }\n",
       "    window._bokeh_on_load = on_load\n",
       "\n",
       "    function on_error() {\n",
       "      console.error(\"failed to load \" + url);\n",
       "    }\n",
       "\n",
       "    var skip = [];\n",
       "    if (window.requirejs) {\n",
       "      window.requirejs.config({'packages': {}, 'paths': {'jspanel': 'https://cdn.jsdelivr.net/npm/jspanel4@4.12.0/dist/jspanel', 'jspanel-modal': 'https://cdn.jsdelivr.net/npm/jspanel4@4.12.0/dist/extensions/modal/jspanel.modal', 'jspanel-tooltip': 'https://cdn.jsdelivr.net/npm/jspanel4@4.12.0/dist/extensions/tooltip/jspanel.tooltip', 'jspanel-hint': 'https://cdn.jsdelivr.net/npm/jspanel4@4.12.0/dist/extensions/hint/jspanel.hint', 'jspanel-layout': 'https://cdn.jsdelivr.net/npm/jspanel4@4.12.0/dist/extensions/layout/jspanel.layout', 'jspanel-contextmenu': 'https://cdn.jsdelivr.net/npm/jspanel4@4.12.0/dist/extensions/contextmenu/jspanel.contextmenu', 'jspanel-dock': 'https://cdn.jsdelivr.net/npm/jspanel4@4.12.0/dist/extensions/dock/jspanel.dock', 'gridstack': 'https://cdn.jsdelivr.net/npm/gridstack@7.2.3/dist/gridstack-all', 'notyf': 'https://cdn.jsdelivr.net/npm/notyf@3/notyf.min'}, 'shim': {'jspanel': {'exports': 'jsPanel'}, 'gridstack': {'exports': 'GridStack'}}});\n",
       "      require([\"jspanel\"], function(jsPanel) {\n",
       "\twindow.jsPanel = jsPanel\n",
       "\ton_load()\n",
       "      })\n",
       "      require([\"jspanel-modal\"], function() {\n",
       "\ton_load()\n",
       "      })\n",
       "      require([\"jspanel-tooltip\"], function() {\n",
       "\ton_load()\n",
       "      })\n",
       "      require([\"jspanel-hint\"], function() {\n",
       "\ton_load()\n",
       "      })\n",
       "      require([\"jspanel-layout\"], function() {\n",
       "\ton_load()\n",
       "      })\n",
       "      require([\"jspanel-contextmenu\"], function() {\n",
       "\ton_load()\n",
       "      })\n",
       "      require([\"jspanel-dock\"], function() {\n",
       "\ton_load()\n",
       "      })\n",
       "      require([\"gridstack\"], function(GridStack) {\n",
       "\twindow.GridStack = GridStack\n",
       "\ton_load()\n",
       "      })\n",
       "      require([\"notyf\"], function() {\n",
       "\ton_load()\n",
       "      })\n",
       "      root._bokeh_is_loading = css_urls.length + 9;\n",
       "    } else {\n",
       "      root._bokeh_is_loading = css_urls.length + js_urls.length + js_modules.length + Object.keys(js_exports).length;\n",
       "    }\n",
       "\n",
       "    var existing_stylesheets = []\n",
       "    var links = document.getElementsByTagName('link')\n",
       "    for (var i = 0; i < links.length; i++) {\n",
       "      var link = links[i]\n",
       "      if (link.href != null) {\n",
       "\texisting_stylesheets.push(link.href)\n",
       "      }\n",
       "    }\n",
       "    for (var i = 0; i < css_urls.length; i++) {\n",
       "      var url = css_urls[i];\n",
       "      if (existing_stylesheets.indexOf(url) !== -1) {\n",
       "\ton_load()\n",
       "\tcontinue;\n",
       "      }\n",
       "      const element = document.createElement(\"link\");\n",
       "      element.onload = on_load;\n",
       "      element.onerror = on_error;\n",
       "      element.rel = \"stylesheet\";\n",
       "      element.type = \"text/css\";\n",
       "      element.href = url;\n",
       "      console.debug(\"Bokeh: injecting link tag for BokehJS stylesheet: \", url);\n",
       "      document.body.appendChild(element);\n",
       "    }    if (((window['jsPanel'] !== undefined) && (!(window['jsPanel'] instanceof HTMLElement))) || window.requirejs) {\n",
       "      var urls = ['https://cdn.holoviz.org/panel/1.2.3/dist/bundled/floatpanel/jspanel4@4.12.0/dist/jspanel.js', 'https://cdn.holoviz.org/panel/1.2.3/dist/bundled/floatpanel/jspanel4@4.12.0/dist/extensions/modal/jspanel.modal.js', 'https://cdn.holoviz.org/panel/1.2.3/dist/bundled/floatpanel/jspanel4@4.12.0/dist/extensions/tooltip/jspanel.tooltip.js', 'https://cdn.holoviz.org/panel/1.2.3/dist/bundled/floatpanel/jspanel4@4.12.0/dist/extensions/hint/jspanel.hint.js', 'https://cdn.holoviz.org/panel/1.2.3/dist/bundled/floatpanel/jspanel4@4.12.0/dist/extensions/layout/jspanel.layout.js', 'https://cdn.holoviz.org/panel/1.2.3/dist/bundled/floatpanel/jspanel4@4.12.0/dist/extensions/contextmenu/jspanel.contextmenu.js', 'https://cdn.holoviz.org/panel/1.2.3/dist/bundled/floatpanel/jspanel4@4.12.0/dist/extensions/dock/jspanel.dock.js'];\n",
       "      for (var i = 0; i < urls.length; i++) {\n",
       "        skip.push(urls[i])\n",
       "      }\n",
       "    }    if (((window['GridStack'] !== undefined) && (!(window['GridStack'] instanceof HTMLElement))) || window.requirejs) {\n",
       "      var urls = ['https://cdn.holoviz.org/panel/1.2.3/dist/bundled/gridstack/gridstack@7.2.3/dist/gridstack-all.js'];\n",
       "      for (var i = 0; i < urls.length; i++) {\n",
       "        skip.push(urls[i])\n",
       "      }\n",
       "    }    if (((window['Notyf'] !== undefined) && (!(window['Notyf'] instanceof HTMLElement))) || window.requirejs) {\n",
       "      var urls = ['https://cdn.holoviz.org/panel/1.2.3/dist/bundled/notificationarea/notyf@3/notyf.min.js'];\n",
       "      for (var i = 0; i < urls.length; i++) {\n",
       "        skip.push(urls[i])\n",
       "      }\n",
       "    }    var existing_scripts = []\n",
       "    var scripts = document.getElementsByTagName('script')\n",
       "    for (var i = 0; i < scripts.length; i++) {\n",
       "      var script = scripts[i]\n",
       "      if (script.src != null) {\n",
       "\texisting_scripts.push(script.src)\n",
       "      }\n",
       "    }\n",
       "    for (var i = 0; i < js_urls.length; i++) {\n",
       "      var url = js_urls[i];\n",
       "      if (skip.indexOf(url) !== -1 || existing_scripts.indexOf(url) !== -1) {\n",
       "\tif (!window.requirejs) {\n",
       "\t  on_load();\n",
       "\t}\n",
       "\tcontinue;\n",
       "      }\n",
       "      var element = document.createElement('script');\n",
       "      element.onload = on_load;\n",
       "      element.onerror = on_error;\n",
       "      element.async = false;\n",
       "      element.src = url;\n",
       "      console.debug(\"Bokeh: injecting script tag for BokehJS library: \", url);\n",
       "      document.head.appendChild(element);\n",
       "    }\n",
       "    for (var i = 0; i < js_modules.length; i++) {\n",
       "      var url = js_modules[i];\n",
       "      if (skip.indexOf(url) !== -1 || existing_scripts.indexOf(url) !== -1) {\n",
       "\tif (!window.requirejs) {\n",
       "\t  on_load();\n",
       "\t}\n",
       "\tcontinue;\n",
       "      }\n",
       "      var element = document.createElement('script');\n",
       "      element.onload = on_load;\n",
       "      element.onerror = on_error;\n",
       "      element.async = false;\n",
       "      element.src = url;\n",
       "      element.type = \"module\";\n",
       "      console.debug(\"Bokeh: injecting script tag for BokehJS library: \", url);\n",
       "      document.head.appendChild(element);\n",
       "    }\n",
       "    for (const name in js_exports) {\n",
       "      var url = js_exports[name];\n",
       "      if (skip.indexOf(url) >= 0 || root[name] != null) {\n",
       "\tif (!window.requirejs) {\n",
       "\t  on_load();\n",
       "\t}\n",
       "\tcontinue;\n",
       "      }\n",
       "      var element = document.createElement('script');\n",
       "      element.onerror = on_error;\n",
       "      element.async = false;\n",
       "      element.type = \"module\";\n",
       "      console.debug(\"Bokeh: injecting script tag for BokehJS library: \", url);\n",
       "      element.textContent = `\n",
       "      import ${name} from \"${url}\"\n",
       "      window.${name} = ${name}\n",
       "      window._bokeh_on_load()\n",
       "      `\n",
       "      document.head.appendChild(element);\n",
       "    }\n",
       "    if (!js_urls.length && !js_modules.length) {\n",
       "      on_load()\n",
       "    }\n",
       "  };\n",
       "\n",
       "  function inject_raw_css(css) {\n",
       "    const element = document.createElement(\"style\");\n",
       "    element.appendChild(document.createTextNode(css));\n",
       "    document.body.appendChild(element);\n",
       "  }\n",
       "\n",
       "  var js_urls = [\"https://cdn.bokeh.org/bokeh/release/bokeh-3.2.1.min.js\", \"https://cdn.bokeh.org/bokeh/release/bokeh-gl-3.2.1.min.js\", \"https://cdn.bokeh.org/bokeh/release/bokeh-widgets-3.2.1.min.js\", \"https://cdn.bokeh.org/bokeh/release/bokeh-tables-3.2.1.min.js\", \"https://cdn.holoviz.org/panel/1.2.3/dist/panel.min.js\"];\n",
       "  var js_modules = [];\n",
       "  var js_exports = {};\n",
       "  var css_urls = [];\n",
       "  var inline_js = [    function(Bokeh) {\n",
       "      Bokeh.set_log_level(\"info\");\n",
       "    },\n",
       "function(Bokeh) {} // ensure no trailing comma for IE\n",
       "  ];\n",
       "\n",
       "  function run_inline_js() {\n",
       "    if ((root.Bokeh !== undefined) || (force === true)) {\n",
       "      for (var i = 0; i < inline_js.length; i++) {\n",
       "        inline_js[i].call(root, root.Bokeh);\n",
       "      }\n",
       "      // Cache old bokeh versions\n",
       "      if (Bokeh != undefined && !reloading) {\n",
       "\tvar NewBokeh = root.Bokeh;\n",
       "\tif (Bokeh.versions === undefined) {\n",
       "\t  Bokeh.versions = new Map();\n",
       "\t}\n",
       "\tif (NewBokeh.version !== Bokeh.version) {\n",
       "\t  Bokeh.versions.set(NewBokeh.version, NewBokeh)\n",
       "\t}\n",
       "\troot.Bokeh = Bokeh;\n",
       "      }} else if (Date.now() < root._bokeh_timeout) {\n",
       "      setTimeout(run_inline_js, 100);\n",
       "    } else if (!root._bokeh_failed_load) {\n",
       "      console.log(\"Bokeh: BokehJS failed to load within specified timeout.\");\n",
       "      root._bokeh_failed_load = true;\n",
       "    }\n",
       "    root._bokeh_is_initializing = false\n",
       "  }\n",
       "\n",
       "  function load_or_wait() {\n",
       "    // Implement a backoff loop that tries to ensure we do not load multiple\n",
       "    // versions of Bokeh and its dependencies at the same time.\n",
       "    // In recent versions we use the root._bokeh_is_initializing flag\n",
       "    // to determine whether there is an ongoing attempt to initialize\n",
       "    // bokeh, however for backward compatibility we also try to ensure\n",
       "    // that we do not start loading a newer (Panel>=1.0 and Bokeh>3) version\n",
       "    // before older versions are fully initialized.\n",
       "    if (root._bokeh_is_initializing && Date.now() > root._bokeh_timeout) {\n",
       "      root._bokeh_is_initializing = false;\n",
       "      root._bokeh_onload_callbacks = undefined;\n",
       "      console.log(\"Bokeh: BokehJS was loaded multiple times but one version failed to initialize.\");\n",
       "      load_or_wait();\n",
       "    } else if (root._bokeh_is_initializing || (typeof root._bokeh_is_initializing === \"undefined\" && root._bokeh_onload_callbacks !== undefined)) {\n",
       "      setTimeout(load_or_wait, 100);\n",
       "    } else {\n",
       "      Bokeh = root.Bokeh;\n",
       "      bokeh_loaded = Bokeh != null && (Bokeh.version === py_version || (Bokeh.versions !== undefined && Bokeh.versions.has(py_version)));\n",
       "      root._bokeh_is_initializing = true\n",
       "      root._bokeh_onload_callbacks = []\n",
       "      if (!reloading && (!bokeh_loaded || is_dev)) {\n",
       "\troot.Bokeh = undefined;\n",
       "      }\n",
       "      load_libs(css_urls, js_urls, js_modules, js_exports, function() {\n",
       "\tconsole.debug(\"Bokeh: BokehJS plotting callback run at\", now());\n",
       "\trun_inline_js();\n",
       "      });\n",
       "    }\n",
       "  }\n",
       "  // Give older versions of the autoload script a head-start to ensure\n",
       "  // they initialize before we start loading newer version.\n",
       "  setTimeout(load_or_wait, 100)\n",
       "}(window));"
      ],
      "application/vnd.holoviews_load.v0+json": "(function(root) {\n  function now() {\n    return new Date();\n  }\n\n  var force = true;\n  var py_version = '3.2.1'.replace('rc', '-rc.').replace('.dev', '-dev.');\n  var is_dev = py_version.indexOf(\"+\") !== -1 || py_version.indexOf(\"-\") !== -1;\n  var reloading = false;\n  var Bokeh = root.Bokeh;\n  var bokeh_loaded = Bokeh != null && (Bokeh.version === py_version || (Bokeh.versions !== undefined && Bokeh.versions.has(py_version)));\n\n  if (typeof (root._bokeh_timeout) === \"undefined\" || force) {\n    root._bokeh_timeout = Date.now() + 5000;\n    root._bokeh_failed_load = false;\n  }\n\n  function run_callbacks() {\n    try {\n      root._bokeh_onload_callbacks.forEach(function(callback) {\n        if (callback != null)\n          callback();\n      });\n    } finally {\n      delete root._bokeh_onload_callbacks;\n    }\n    console.debug(\"Bokeh: all callbacks have finished\");\n  }\n\n  function load_libs(css_urls, js_urls, js_modules, js_exports, callback) {\n    if (css_urls == null) css_urls = [];\n    if (js_urls == null) js_urls = [];\n    if (js_modules == null) js_modules = [];\n    if (js_exports == null) js_exports = {};\n\n    root._bokeh_onload_callbacks.push(callback);\n\n    if (root._bokeh_is_loading > 0) {\n      console.debug(\"Bokeh: BokehJS is being loaded, scheduling callback at\", now());\n      return null;\n    }\n    if (js_urls.length === 0 && js_modules.length === 0 && Object.keys(js_exports).length === 0) {\n      run_callbacks();\n      return null;\n    }\n    if (!reloading) {\n      console.debug(\"Bokeh: BokehJS not loaded, scheduling load and callback at\", now());\n    }\n\n    function on_load() {\n      root._bokeh_is_loading--;\n      if (root._bokeh_is_loading === 0) {\n        console.debug(\"Bokeh: all BokehJS libraries/stylesheets loaded\");\n        run_callbacks()\n      }\n    }\n    window._bokeh_on_load = on_load\n\n    function on_error() {\n      console.error(\"failed to load \" + url);\n    }\n\n    var skip = [];\n    if (window.requirejs) {\n      window.requirejs.config({'packages': {}, 'paths': {'jspanel': 'https://cdn.jsdelivr.net/npm/jspanel4@4.12.0/dist/jspanel', 'jspanel-modal': 'https://cdn.jsdelivr.net/npm/jspanel4@4.12.0/dist/extensions/modal/jspanel.modal', 'jspanel-tooltip': 'https://cdn.jsdelivr.net/npm/jspanel4@4.12.0/dist/extensions/tooltip/jspanel.tooltip', 'jspanel-hint': 'https://cdn.jsdelivr.net/npm/jspanel4@4.12.0/dist/extensions/hint/jspanel.hint', 'jspanel-layout': 'https://cdn.jsdelivr.net/npm/jspanel4@4.12.0/dist/extensions/layout/jspanel.layout', 'jspanel-contextmenu': 'https://cdn.jsdelivr.net/npm/jspanel4@4.12.0/dist/extensions/contextmenu/jspanel.contextmenu', 'jspanel-dock': 'https://cdn.jsdelivr.net/npm/jspanel4@4.12.0/dist/extensions/dock/jspanel.dock', 'gridstack': 'https://cdn.jsdelivr.net/npm/gridstack@7.2.3/dist/gridstack-all', 'notyf': 'https://cdn.jsdelivr.net/npm/notyf@3/notyf.min'}, 'shim': {'jspanel': {'exports': 'jsPanel'}, 'gridstack': {'exports': 'GridStack'}}});\n      require([\"jspanel\"], function(jsPanel) {\n\twindow.jsPanel = jsPanel\n\ton_load()\n      })\n      require([\"jspanel-modal\"], function() {\n\ton_load()\n      })\n      require([\"jspanel-tooltip\"], function() {\n\ton_load()\n      })\n      require([\"jspanel-hint\"], function() {\n\ton_load()\n      })\n      require([\"jspanel-layout\"], function() {\n\ton_load()\n      })\n      require([\"jspanel-contextmenu\"], function() {\n\ton_load()\n      })\n      require([\"jspanel-dock\"], function() {\n\ton_load()\n      })\n      require([\"gridstack\"], function(GridStack) {\n\twindow.GridStack = GridStack\n\ton_load()\n      })\n      require([\"notyf\"], function() {\n\ton_load()\n      })\n      root._bokeh_is_loading = css_urls.length + 9;\n    } else {\n      root._bokeh_is_loading = css_urls.length + js_urls.length + js_modules.length + Object.keys(js_exports).length;\n    }\n\n    var existing_stylesheets = []\n    var links = document.getElementsByTagName('link')\n    for (var i = 0; i < links.length; i++) {\n      var link = links[i]\n      if (link.href != null) {\n\texisting_stylesheets.push(link.href)\n      }\n    }\n    for (var i = 0; i < css_urls.length; i++) {\n      var url = css_urls[i];\n      if (existing_stylesheets.indexOf(url) !== -1) {\n\ton_load()\n\tcontinue;\n      }\n      const element = document.createElement(\"link\");\n      element.onload = on_load;\n      element.onerror = on_error;\n      element.rel = \"stylesheet\";\n      element.type = \"text/css\";\n      element.href = url;\n      console.debug(\"Bokeh: injecting link tag for BokehJS stylesheet: \", url);\n      document.body.appendChild(element);\n    }    if (((window['jsPanel'] !== undefined) && (!(window['jsPanel'] instanceof HTMLElement))) || window.requirejs) {\n      var urls = ['https://cdn.holoviz.org/panel/1.2.3/dist/bundled/floatpanel/jspanel4@4.12.0/dist/jspanel.js', 'https://cdn.holoviz.org/panel/1.2.3/dist/bundled/floatpanel/jspanel4@4.12.0/dist/extensions/modal/jspanel.modal.js', 'https://cdn.holoviz.org/panel/1.2.3/dist/bundled/floatpanel/jspanel4@4.12.0/dist/extensions/tooltip/jspanel.tooltip.js', 'https://cdn.holoviz.org/panel/1.2.3/dist/bundled/floatpanel/jspanel4@4.12.0/dist/extensions/hint/jspanel.hint.js', 'https://cdn.holoviz.org/panel/1.2.3/dist/bundled/floatpanel/jspanel4@4.12.0/dist/extensions/layout/jspanel.layout.js', 'https://cdn.holoviz.org/panel/1.2.3/dist/bundled/floatpanel/jspanel4@4.12.0/dist/extensions/contextmenu/jspanel.contextmenu.js', 'https://cdn.holoviz.org/panel/1.2.3/dist/bundled/floatpanel/jspanel4@4.12.0/dist/extensions/dock/jspanel.dock.js'];\n      for (var i = 0; i < urls.length; i++) {\n        skip.push(urls[i])\n      }\n    }    if (((window['GridStack'] !== undefined) && (!(window['GridStack'] instanceof HTMLElement))) || window.requirejs) {\n      var urls = ['https://cdn.holoviz.org/panel/1.2.3/dist/bundled/gridstack/gridstack@7.2.3/dist/gridstack-all.js'];\n      for (var i = 0; i < urls.length; i++) {\n        skip.push(urls[i])\n      }\n    }    if (((window['Notyf'] !== undefined) && (!(window['Notyf'] instanceof HTMLElement))) || window.requirejs) {\n      var urls = ['https://cdn.holoviz.org/panel/1.2.3/dist/bundled/notificationarea/notyf@3/notyf.min.js'];\n      for (var i = 0; i < urls.length; i++) {\n        skip.push(urls[i])\n      }\n    }    var existing_scripts = []\n    var scripts = document.getElementsByTagName('script')\n    for (var i = 0; i < scripts.length; i++) {\n      var script = scripts[i]\n      if (script.src != null) {\n\texisting_scripts.push(script.src)\n      }\n    }\n    for (var i = 0; i < js_urls.length; i++) {\n      var url = js_urls[i];\n      if (skip.indexOf(url) !== -1 || existing_scripts.indexOf(url) !== -1) {\n\tif (!window.requirejs) {\n\t  on_load();\n\t}\n\tcontinue;\n      }\n      var element = document.createElement('script');\n      element.onload = on_load;\n      element.onerror = on_error;\n      element.async = false;\n      element.src = url;\n      console.debug(\"Bokeh: injecting script tag for BokehJS library: \", url);\n      document.head.appendChild(element);\n    }\n    for (var i = 0; i < js_modules.length; i++) {\n      var url = js_modules[i];\n      if (skip.indexOf(url) !== -1 || existing_scripts.indexOf(url) !== -1) {\n\tif (!window.requirejs) {\n\t  on_load();\n\t}\n\tcontinue;\n      }\n      var element = document.createElement('script');\n      element.onload = on_load;\n      element.onerror = on_error;\n      element.async = false;\n      element.src = url;\n      element.type = \"module\";\n      console.debug(\"Bokeh: injecting script tag for BokehJS library: \", url);\n      document.head.appendChild(element);\n    }\n    for (const name in js_exports) {\n      var url = js_exports[name];\n      if (skip.indexOf(url) >= 0 || root[name] != null) {\n\tif (!window.requirejs) {\n\t  on_load();\n\t}\n\tcontinue;\n      }\n      var element = document.createElement('script');\n      element.onerror = on_error;\n      element.async = false;\n      element.type = \"module\";\n      console.debug(\"Bokeh: injecting script tag for BokehJS library: \", url);\n      element.textContent = `\n      import ${name} from \"${url}\"\n      window.${name} = ${name}\n      window._bokeh_on_load()\n      `\n      document.head.appendChild(element);\n    }\n    if (!js_urls.length && !js_modules.length) {\n      on_load()\n    }\n  };\n\n  function inject_raw_css(css) {\n    const element = document.createElement(\"style\");\n    element.appendChild(document.createTextNode(css));\n    document.body.appendChild(element);\n  }\n\n  var js_urls = [\"https://cdn.bokeh.org/bokeh/release/bokeh-3.2.1.min.js\", \"https://cdn.bokeh.org/bokeh/release/bokeh-gl-3.2.1.min.js\", \"https://cdn.bokeh.org/bokeh/release/bokeh-widgets-3.2.1.min.js\", \"https://cdn.bokeh.org/bokeh/release/bokeh-tables-3.2.1.min.js\", \"https://cdn.holoviz.org/panel/1.2.3/dist/panel.min.js\"];\n  var js_modules = [];\n  var js_exports = {};\n  var css_urls = [];\n  var inline_js = [    function(Bokeh) {\n      Bokeh.set_log_level(\"info\");\n    },\nfunction(Bokeh) {} // ensure no trailing comma for IE\n  ];\n\n  function run_inline_js() {\n    if ((root.Bokeh !== undefined) || (force === true)) {\n      for (var i = 0; i < inline_js.length; i++) {\n        inline_js[i].call(root, root.Bokeh);\n      }\n      // Cache old bokeh versions\n      if (Bokeh != undefined && !reloading) {\n\tvar NewBokeh = root.Bokeh;\n\tif (Bokeh.versions === undefined) {\n\t  Bokeh.versions = new Map();\n\t}\n\tif (NewBokeh.version !== Bokeh.version) {\n\t  Bokeh.versions.set(NewBokeh.version, NewBokeh)\n\t}\n\troot.Bokeh = Bokeh;\n      }} else if (Date.now() < root._bokeh_timeout) {\n      setTimeout(run_inline_js, 100);\n    } else if (!root._bokeh_failed_load) {\n      console.log(\"Bokeh: BokehJS failed to load within specified timeout.\");\n      root._bokeh_failed_load = true;\n    }\n    root._bokeh_is_initializing = false\n  }\n\n  function load_or_wait() {\n    // Implement a backoff loop that tries to ensure we do not load multiple\n    // versions of Bokeh and its dependencies at the same time.\n    // In recent versions we use the root._bokeh_is_initializing flag\n    // to determine whether there is an ongoing attempt to initialize\n    // bokeh, however for backward compatibility we also try to ensure\n    // that we do not start loading a newer (Panel>=1.0 and Bokeh>3) version\n    // before older versions are fully initialized.\n    if (root._bokeh_is_initializing && Date.now() > root._bokeh_timeout) {\n      root._bokeh_is_initializing = false;\n      root._bokeh_onload_callbacks = undefined;\n      console.log(\"Bokeh: BokehJS was loaded multiple times but one version failed to initialize.\");\n      load_or_wait();\n    } else if (root._bokeh_is_initializing || (typeof root._bokeh_is_initializing === \"undefined\" && root._bokeh_onload_callbacks !== undefined)) {\n      setTimeout(load_or_wait, 100);\n    } else {\n      Bokeh = root.Bokeh;\n      bokeh_loaded = Bokeh != null && (Bokeh.version === py_version || (Bokeh.versions !== undefined && Bokeh.versions.has(py_version)));\n      root._bokeh_is_initializing = true\n      root._bokeh_onload_callbacks = []\n      if (!reloading && (!bokeh_loaded || is_dev)) {\n\troot.Bokeh = undefined;\n      }\n      load_libs(css_urls, js_urls, js_modules, js_exports, function() {\n\tconsole.debug(\"Bokeh: BokehJS plotting callback run at\", now());\n\trun_inline_js();\n      });\n    }\n  }\n  // Give older versions of the autoload script a head-start to ensure\n  // they initialize before we start loading newer version.\n  setTimeout(load_or_wait, 100)\n}(window));"
     },
     "metadata": {},
     "output_type": "display_data"
    },
    {
     "data": {
      "application/javascript": [
       "\n",
       "if ((window.PyViz === undefined) || (window.PyViz instanceof HTMLElement)) {\n",
       "  window.PyViz = {comms: {}, comm_status:{}, kernels:{}, receivers: {}, plot_index: []}\n",
       "}\n",
       "\n",
       "\n",
       "    function JupyterCommManager() {\n",
       "    }\n",
       "\n",
       "    JupyterCommManager.prototype.register_target = function(plot_id, comm_id, msg_handler) {\n",
       "      if (window.comm_manager || ((window.Jupyter !== undefined) && (Jupyter.notebook.kernel != null))) {\n",
       "        var comm_manager = window.comm_manager || Jupyter.notebook.kernel.comm_manager;\n",
       "        comm_manager.register_target(comm_id, function(comm) {\n",
       "          comm.on_msg(msg_handler);\n",
       "        });\n",
       "      } else if ((plot_id in window.PyViz.kernels) && (window.PyViz.kernels[plot_id])) {\n",
       "        window.PyViz.kernels[plot_id].registerCommTarget(comm_id, function(comm) {\n",
       "          comm.onMsg = msg_handler;\n",
       "        });\n",
       "      } else if (typeof google != 'undefined' && google.colab.kernel != null) {\n",
       "        google.colab.kernel.comms.registerTarget(comm_id, (comm) => {\n",
       "          var messages = comm.messages[Symbol.asyncIterator]();\n",
       "          function processIteratorResult(result) {\n",
       "            var message = result.value;\n",
       "            console.log(message)\n",
       "            var content = {data: message.data, comm_id};\n",
       "            var buffers = []\n",
       "            for (var buffer of message.buffers || []) {\n",
       "              buffers.push(new DataView(buffer))\n",
       "            }\n",
       "            var metadata = message.metadata || {};\n",
       "            var msg = {content, buffers, metadata}\n",
       "            msg_handler(msg);\n",
       "            return messages.next().then(processIteratorResult);\n",
       "          }\n",
       "          return messages.next().then(processIteratorResult);\n",
       "        })\n",
       "      }\n",
       "    }\n",
       "\n",
       "    JupyterCommManager.prototype.get_client_comm = function(plot_id, comm_id, msg_handler) {\n",
       "      if (comm_id in window.PyViz.comms) {\n",
       "        return window.PyViz.comms[comm_id];\n",
       "      } else if (window.comm_manager || ((window.Jupyter !== undefined) && (Jupyter.notebook.kernel != null))) {\n",
       "        var comm_manager = window.comm_manager || Jupyter.notebook.kernel.comm_manager;\n",
       "        var comm = comm_manager.new_comm(comm_id, {}, {}, {}, comm_id);\n",
       "        if (msg_handler) {\n",
       "          comm.on_msg(msg_handler);\n",
       "        }\n",
       "      } else if ((plot_id in window.PyViz.kernels) && (window.PyViz.kernels[plot_id])) {\n",
       "        var comm = window.PyViz.kernels[plot_id].connectToComm(comm_id);\n",
       "        comm.open();\n",
       "        if (msg_handler) {\n",
       "          comm.onMsg = msg_handler;\n",
       "        }\n",
       "      } else if (typeof google != 'undefined' && google.colab.kernel != null) {\n",
       "        var comm_promise = google.colab.kernel.comms.open(comm_id)\n",
       "        comm_promise.then((comm) => {\n",
       "          window.PyViz.comms[comm_id] = comm;\n",
       "          if (msg_handler) {\n",
       "            var messages = comm.messages[Symbol.asyncIterator]();\n",
       "            function processIteratorResult(result) {\n",
       "              var message = result.value;\n",
       "              var content = {data: message.data};\n",
       "              var metadata = message.metadata || {comm_id};\n",
       "              var msg = {content, metadata}\n",
       "              msg_handler(msg);\n",
       "              return messages.next().then(processIteratorResult);\n",
       "            }\n",
       "            return messages.next().then(processIteratorResult);\n",
       "          }\n",
       "        }) \n",
       "        var sendClosure = (data, metadata, buffers, disposeOnDone) => {\n",
       "          return comm_promise.then((comm) => {\n",
       "            comm.send(data, metadata, buffers, disposeOnDone);\n",
       "          });\n",
       "        };\n",
       "        var comm = {\n",
       "          send: sendClosure\n",
       "        };\n",
       "      }\n",
       "      window.PyViz.comms[comm_id] = comm;\n",
       "      return comm;\n",
       "    }\n",
       "    window.PyViz.comm_manager = new JupyterCommManager();\n",
       "    \n",
       "\n",
       "\n",
       "var JS_MIME_TYPE = 'application/javascript';\n",
       "var HTML_MIME_TYPE = 'text/html';\n",
       "var EXEC_MIME_TYPE = 'application/vnd.holoviews_exec.v0+json';\n",
       "var CLASS_NAME = 'output';\n",
       "\n",
       "/**\n",
       " * Render data to the DOM node\n",
       " */\n",
       "function render(props, node) {\n",
       "  var div = document.createElement(\"div\");\n",
       "  var script = document.createElement(\"script\");\n",
       "  node.appendChild(div);\n",
       "  node.appendChild(script);\n",
       "}\n",
       "\n",
       "/**\n",
       " * Handle when a new output is added\n",
       " */\n",
       "function handle_add_output(event, handle) {\n",
       "  var output_area = handle.output_area;\n",
       "  var output = handle.output;\n",
       "  if ((output.data == undefined) || (!output.data.hasOwnProperty(EXEC_MIME_TYPE))) {\n",
       "    return\n",
       "  }\n",
       "  var id = output.metadata[EXEC_MIME_TYPE][\"id\"];\n",
       "  var toinsert = output_area.element.find(\".\" + CLASS_NAME.split(' ')[0]);\n",
       "  if (id !== undefined) {\n",
       "    var nchildren = toinsert.length;\n",
       "    var html_node = toinsert[nchildren-1].children[0];\n",
       "    html_node.innerHTML = output.data[HTML_MIME_TYPE];\n",
       "    var scripts = [];\n",
       "    var nodelist = html_node.querySelectorAll(\"script\");\n",
       "    for (var i in nodelist) {\n",
       "      if (nodelist.hasOwnProperty(i)) {\n",
       "        scripts.push(nodelist[i])\n",
       "      }\n",
       "    }\n",
       "\n",
       "    scripts.forEach( function (oldScript) {\n",
       "      var newScript = document.createElement(\"script\");\n",
       "      var attrs = [];\n",
       "      var nodemap = oldScript.attributes;\n",
       "      for (var j in nodemap) {\n",
       "        if (nodemap.hasOwnProperty(j)) {\n",
       "          attrs.push(nodemap[j])\n",
       "        }\n",
       "      }\n",
       "      attrs.forEach(function(attr) { newScript.setAttribute(attr.name, attr.value) });\n",
       "      newScript.appendChild(document.createTextNode(oldScript.innerHTML));\n",
       "      oldScript.parentNode.replaceChild(newScript, oldScript);\n",
       "    });\n",
       "    if (JS_MIME_TYPE in output.data) {\n",
       "      toinsert[nchildren-1].children[1].textContent = output.data[JS_MIME_TYPE];\n",
       "    }\n",
       "    output_area._hv_plot_id = id;\n",
       "    if ((window.Bokeh !== undefined) && (id in Bokeh.index)) {\n",
       "      window.PyViz.plot_index[id] = Bokeh.index[id];\n",
       "    } else {\n",
       "      window.PyViz.plot_index[id] = null;\n",
       "    }\n",
       "  } else if (output.metadata[EXEC_MIME_TYPE][\"server_id\"] !== undefined) {\n",
       "    var bk_div = document.createElement(\"div\");\n",
       "    bk_div.innerHTML = output.data[HTML_MIME_TYPE];\n",
       "    var script_attrs = bk_div.children[0].attributes;\n",
       "    for (var i = 0; i < script_attrs.length; i++) {\n",
       "      toinsert[toinsert.length - 1].childNodes[1].setAttribute(script_attrs[i].name, script_attrs[i].value);\n",
       "    }\n",
       "    // store reference to server id on output_area\n",
       "    output_area._bokeh_server_id = output.metadata[EXEC_MIME_TYPE][\"server_id\"];\n",
       "  }\n",
       "}\n",
       "\n",
       "/**\n",
       " * Handle when an output is cleared or removed\n",
       " */\n",
       "function handle_clear_output(event, handle) {\n",
       "  var id = handle.cell.output_area._hv_plot_id;\n",
       "  var server_id = handle.cell.output_area._bokeh_server_id;\n",
       "  if (((id === undefined) || !(id in PyViz.plot_index)) && (server_id !== undefined)) { return; }\n",
       "  var comm = window.PyViz.comm_manager.get_client_comm(\"hv-extension-comm\", \"hv-extension-comm\", function () {});\n",
       "  if (server_id !== null) {\n",
       "    comm.send({event_type: 'server_delete', 'id': server_id});\n",
       "    return;\n",
       "  } else if (comm !== null) {\n",
       "    comm.send({event_type: 'delete', 'id': id});\n",
       "  }\n",
       "  delete PyViz.plot_index[id];\n",
       "  if ((window.Bokeh !== undefined) & (id in window.Bokeh.index)) {\n",
       "    var doc = window.Bokeh.index[id].model.document\n",
       "    doc.clear();\n",
       "    const i = window.Bokeh.documents.indexOf(doc);\n",
       "    if (i > -1) {\n",
       "      window.Bokeh.documents.splice(i, 1);\n",
       "    }\n",
       "  }\n",
       "}\n",
       "\n",
       "/**\n",
       " * Handle kernel restart event\n",
       " */\n",
       "function handle_kernel_cleanup(event, handle) {\n",
       "  delete PyViz.comms[\"hv-extension-comm\"];\n",
       "  window.PyViz.plot_index = {}\n",
       "}\n",
       "\n",
       "/**\n",
       " * Handle update_display_data messages\n",
       " */\n",
       "function handle_update_output(event, handle) {\n",
       "  handle_clear_output(event, {cell: {output_area: handle.output_area}})\n",
       "  handle_add_output(event, handle)\n",
       "}\n",
       "\n",
       "function register_renderer(events, OutputArea) {\n",
       "  function append_mime(data, metadata, element) {\n",
       "    // create a DOM node to render to\n",
       "    var toinsert = this.create_output_subarea(\n",
       "    metadata,\n",
       "    CLASS_NAME,\n",
       "    EXEC_MIME_TYPE\n",
       "    );\n",
       "    this.keyboard_manager.register_events(toinsert);\n",
       "    // Render to node\n",
       "    var props = {data: data, metadata: metadata[EXEC_MIME_TYPE]};\n",
       "    render(props, toinsert[0]);\n",
       "    element.append(toinsert);\n",
       "    return toinsert\n",
       "  }\n",
       "\n",
       "  events.on('output_added.OutputArea', handle_add_output);\n",
       "  events.on('output_updated.OutputArea', handle_update_output);\n",
       "  events.on('clear_output.CodeCell', handle_clear_output);\n",
       "  events.on('delete.Cell', handle_clear_output);\n",
       "  events.on('kernel_ready.Kernel', handle_kernel_cleanup);\n",
       "\n",
       "  OutputArea.prototype.register_mime_type(EXEC_MIME_TYPE, append_mime, {\n",
       "    safe: true,\n",
       "    index: 0\n",
       "  });\n",
       "}\n",
       "\n",
       "if (window.Jupyter !== undefined) {\n",
       "  try {\n",
       "    var events = require('base/js/events');\n",
       "    var OutputArea = require('notebook/js/outputarea').OutputArea;\n",
       "    if (OutputArea.prototype.mime_types().indexOf(EXEC_MIME_TYPE) == -1) {\n",
       "      register_renderer(events, OutputArea);\n",
       "    }\n",
       "  } catch(err) {\n",
       "  }\n",
       "}\n"
      ],
      "application/vnd.holoviews_load.v0+json": "\nif ((window.PyViz === undefined) || (window.PyViz instanceof HTMLElement)) {\n  window.PyViz = {comms: {}, comm_status:{}, kernels:{}, receivers: {}, plot_index: []}\n}\n\n\n    function JupyterCommManager() {\n    }\n\n    JupyterCommManager.prototype.register_target = function(plot_id, comm_id, msg_handler) {\n      if (window.comm_manager || ((window.Jupyter !== undefined) && (Jupyter.notebook.kernel != null))) {\n        var comm_manager = window.comm_manager || Jupyter.notebook.kernel.comm_manager;\n        comm_manager.register_target(comm_id, function(comm) {\n          comm.on_msg(msg_handler);\n        });\n      } else if ((plot_id in window.PyViz.kernels) && (window.PyViz.kernels[plot_id])) {\n        window.PyViz.kernels[plot_id].registerCommTarget(comm_id, function(comm) {\n          comm.onMsg = msg_handler;\n        });\n      } else if (typeof google != 'undefined' && google.colab.kernel != null) {\n        google.colab.kernel.comms.registerTarget(comm_id, (comm) => {\n          var messages = comm.messages[Symbol.asyncIterator]();\n          function processIteratorResult(result) {\n            var message = result.value;\n            console.log(message)\n            var content = {data: message.data, comm_id};\n            var buffers = []\n            for (var buffer of message.buffers || []) {\n              buffers.push(new DataView(buffer))\n            }\n            var metadata = message.metadata || {};\n            var msg = {content, buffers, metadata}\n            msg_handler(msg);\n            return messages.next().then(processIteratorResult);\n          }\n          return messages.next().then(processIteratorResult);\n        })\n      }\n    }\n\n    JupyterCommManager.prototype.get_client_comm = function(plot_id, comm_id, msg_handler) {\n      if (comm_id in window.PyViz.comms) {\n        return window.PyViz.comms[comm_id];\n      } else if (window.comm_manager || ((window.Jupyter !== undefined) && (Jupyter.notebook.kernel != null))) {\n        var comm_manager = window.comm_manager || Jupyter.notebook.kernel.comm_manager;\n        var comm = comm_manager.new_comm(comm_id, {}, {}, {}, comm_id);\n        if (msg_handler) {\n          comm.on_msg(msg_handler);\n        }\n      } else if ((plot_id in window.PyViz.kernels) && (window.PyViz.kernels[plot_id])) {\n        var comm = window.PyViz.kernels[plot_id].connectToComm(comm_id);\n        comm.open();\n        if (msg_handler) {\n          comm.onMsg = msg_handler;\n        }\n      } else if (typeof google != 'undefined' && google.colab.kernel != null) {\n        var comm_promise = google.colab.kernel.comms.open(comm_id)\n        comm_promise.then((comm) => {\n          window.PyViz.comms[comm_id] = comm;\n          if (msg_handler) {\n            var messages = comm.messages[Symbol.asyncIterator]();\n            function processIteratorResult(result) {\n              var message = result.value;\n              var content = {data: message.data};\n              var metadata = message.metadata || {comm_id};\n              var msg = {content, metadata}\n              msg_handler(msg);\n              return messages.next().then(processIteratorResult);\n            }\n            return messages.next().then(processIteratorResult);\n          }\n        }) \n        var sendClosure = (data, metadata, buffers, disposeOnDone) => {\n          return comm_promise.then((comm) => {\n            comm.send(data, metadata, buffers, disposeOnDone);\n          });\n        };\n        var comm = {\n          send: sendClosure\n        };\n      }\n      window.PyViz.comms[comm_id] = comm;\n      return comm;\n    }\n    window.PyViz.comm_manager = new JupyterCommManager();\n    \n\n\nvar JS_MIME_TYPE = 'application/javascript';\nvar HTML_MIME_TYPE = 'text/html';\nvar EXEC_MIME_TYPE = 'application/vnd.holoviews_exec.v0+json';\nvar CLASS_NAME = 'output';\n\n/**\n * Render data to the DOM node\n */\nfunction render(props, node) {\n  var div = document.createElement(\"div\");\n  var script = document.createElement(\"script\");\n  node.appendChild(div);\n  node.appendChild(script);\n}\n\n/**\n * Handle when a new output is added\n */\nfunction handle_add_output(event, handle) {\n  var output_area = handle.output_area;\n  var output = handle.output;\n  if ((output.data == undefined) || (!output.data.hasOwnProperty(EXEC_MIME_TYPE))) {\n    return\n  }\n  var id = output.metadata[EXEC_MIME_TYPE][\"id\"];\n  var toinsert = output_area.element.find(\".\" + CLASS_NAME.split(' ')[0]);\n  if (id !== undefined) {\n    var nchildren = toinsert.length;\n    var html_node = toinsert[nchildren-1].children[0];\n    html_node.innerHTML = output.data[HTML_MIME_TYPE];\n    var scripts = [];\n    var nodelist = html_node.querySelectorAll(\"script\");\n    for (var i in nodelist) {\n      if (nodelist.hasOwnProperty(i)) {\n        scripts.push(nodelist[i])\n      }\n    }\n\n    scripts.forEach( function (oldScript) {\n      var newScript = document.createElement(\"script\");\n      var attrs = [];\n      var nodemap = oldScript.attributes;\n      for (var j in nodemap) {\n        if (nodemap.hasOwnProperty(j)) {\n          attrs.push(nodemap[j])\n        }\n      }\n      attrs.forEach(function(attr) { newScript.setAttribute(attr.name, attr.value) });\n      newScript.appendChild(document.createTextNode(oldScript.innerHTML));\n      oldScript.parentNode.replaceChild(newScript, oldScript);\n    });\n    if (JS_MIME_TYPE in output.data) {\n      toinsert[nchildren-1].children[1].textContent = output.data[JS_MIME_TYPE];\n    }\n    output_area._hv_plot_id = id;\n    if ((window.Bokeh !== undefined) && (id in Bokeh.index)) {\n      window.PyViz.plot_index[id] = Bokeh.index[id];\n    } else {\n      window.PyViz.plot_index[id] = null;\n    }\n  } else if (output.metadata[EXEC_MIME_TYPE][\"server_id\"] !== undefined) {\n    var bk_div = document.createElement(\"div\");\n    bk_div.innerHTML = output.data[HTML_MIME_TYPE];\n    var script_attrs = bk_div.children[0].attributes;\n    for (var i = 0; i < script_attrs.length; i++) {\n      toinsert[toinsert.length - 1].childNodes[1].setAttribute(script_attrs[i].name, script_attrs[i].value);\n    }\n    // store reference to server id on output_area\n    output_area._bokeh_server_id = output.metadata[EXEC_MIME_TYPE][\"server_id\"];\n  }\n}\n\n/**\n * Handle when an output is cleared or removed\n */\nfunction handle_clear_output(event, handle) {\n  var id = handle.cell.output_area._hv_plot_id;\n  var server_id = handle.cell.output_area._bokeh_server_id;\n  if (((id === undefined) || !(id in PyViz.plot_index)) && (server_id !== undefined)) { return; }\n  var comm = window.PyViz.comm_manager.get_client_comm(\"hv-extension-comm\", \"hv-extension-comm\", function () {});\n  if (server_id !== null) {\n    comm.send({event_type: 'server_delete', 'id': server_id});\n    return;\n  } else if (comm !== null) {\n    comm.send({event_type: 'delete', 'id': id});\n  }\n  delete PyViz.plot_index[id];\n  if ((window.Bokeh !== undefined) & (id in window.Bokeh.index)) {\n    var doc = window.Bokeh.index[id].model.document\n    doc.clear();\n    const i = window.Bokeh.documents.indexOf(doc);\n    if (i > -1) {\n      window.Bokeh.documents.splice(i, 1);\n    }\n  }\n}\n\n/**\n * Handle kernel restart event\n */\nfunction handle_kernel_cleanup(event, handle) {\n  delete PyViz.comms[\"hv-extension-comm\"];\n  window.PyViz.plot_index = {}\n}\n\n/**\n * Handle update_display_data messages\n */\nfunction handle_update_output(event, handle) {\n  handle_clear_output(event, {cell: {output_area: handle.output_area}})\n  handle_add_output(event, handle)\n}\n\nfunction register_renderer(events, OutputArea) {\n  function append_mime(data, metadata, element) {\n    // create a DOM node to render to\n    var toinsert = this.create_output_subarea(\n    metadata,\n    CLASS_NAME,\n    EXEC_MIME_TYPE\n    );\n    this.keyboard_manager.register_events(toinsert);\n    // Render to node\n    var props = {data: data, metadata: metadata[EXEC_MIME_TYPE]};\n    render(props, toinsert[0]);\n    element.append(toinsert);\n    return toinsert\n  }\n\n  events.on('output_added.OutputArea', handle_add_output);\n  events.on('output_updated.OutputArea', handle_update_output);\n  events.on('clear_output.CodeCell', handle_clear_output);\n  events.on('delete.Cell', handle_clear_output);\n  events.on('kernel_ready.Kernel', handle_kernel_cleanup);\n\n  OutputArea.prototype.register_mime_type(EXEC_MIME_TYPE, append_mime, {\n    safe: true,\n    index: 0\n  });\n}\n\nif (window.Jupyter !== undefined) {\n  try {\n    var events = require('base/js/events');\n    var OutputArea = require('notebook/js/outputarea').OutputArea;\n    if (OutputArea.prototype.mime_types().indexOf(EXEC_MIME_TYPE) == -1) {\n      register_renderer(events, OutputArea);\n    }\n  } catch(err) {\n  }\n}\n"
     },
     "metadata": {},
     "output_type": "display_data"
    },
    {
     "data": {
      "text/html": [
       "<style>*[data-root-id],\n",
       "*[data-root-id] > * {\n",
       "  box-sizing: border-box;\n",
       "  font-family: var(--jp-ui-font-family);\n",
       "  font-size: var(--jp-ui-font-size1);\n",
       "  color: var(--vscode-editor-foreground, var(--jp-ui-font-color1));\n",
       "}\n",
       "\n",
       "/* Override VSCode background color */\n",
       ".cell-output-ipywidget-background:has(\n",
       "    > .cell-output-ipywidget-background > .lm-Widget > *[data-root-id]\n",
       "  ),\n",
       ".cell-output-ipywidget-background:has(> .lm-Widget > *[data-root-id]) {\n",
       "  background-color: transparent !important;\n",
       "}\n",
       "</style>"
      ]
     },
     "metadata": {},
     "output_type": "display_data"
    }
   ],
   "source": [
    "# Dependencies and Setup\n",
    "import hvplot.pandas\n",
    "import pandas as pd\n",
    "import requests\n",
    "import plotly.express as px\n",
    "\n",
    "# Import API key\n",
    "from api_keys import geoapify_key"
   ]
  },
  {
   "cell_type": "code",
   "execution_count": 2,
   "metadata": {},
   "outputs": [
    {
     "data": {
      "text/html": [
       "<div>\n",
       "<style scoped>\n",
       "    .dataframe tbody tr th:only-of-type {\n",
       "        vertical-align: middle;\n",
       "    }\n",
       "\n",
       "    .dataframe tbody tr th {\n",
       "        vertical-align: top;\n",
       "    }\n",
       "\n",
       "    .dataframe thead th {\n",
       "        text-align: right;\n",
       "    }\n",
       "</style>\n",
       "<table border=\"1\" class=\"dataframe\">\n",
       "  <thead>\n",
       "    <tr style=\"text-align: right;\">\n",
       "      <th></th>\n",
       "      <th>City_ID</th>\n",
       "      <th>City</th>\n",
       "      <th>Lat</th>\n",
       "      <th>Lng</th>\n",
       "      <th>Max Temp (K)</th>\n",
       "      <th>Humidity</th>\n",
       "      <th>Cloudiness</th>\n",
       "      <th>Wind Speed</th>\n",
       "      <th>Country</th>\n",
       "      <th>Date</th>\n",
       "    </tr>\n",
       "  </thead>\n",
       "  <tbody>\n",
       "    <tr>\n",
       "      <th>0</th>\n",
       "      <td>0</td>\n",
       "      <td>Bredasdorp</td>\n",
       "      <td>-34.5322</td>\n",
       "      <td>20.0403</td>\n",
       "      <td>291.40</td>\n",
       "      <td>96</td>\n",
       "      <td>76</td>\n",
       "      <td>1.21</td>\n",
       "      <td>ZA</td>\n",
       "      <td>1706672733</td>\n",
       "    </tr>\n",
       "    <tr>\n",
       "      <th>1</th>\n",
       "      <td>1</td>\n",
       "      <td>College</td>\n",
       "      <td>64.8569</td>\n",
       "      <td>-147.8028</td>\n",
       "      <td>246.14</td>\n",
       "      <td>61</td>\n",
       "      <td>75</td>\n",
       "      <td>1.54</td>\n",
       "      <td>US</td>\n",
       "      <td>1706672734</td>\n",
       "    </tr>\n",
       "    <tr>\n",
       "      <th>2</th>\n",
       "      <td>2</td>\n",
       "      <td>Vila Velha</td>\n",
       "      <td>-20.3297</td>\n",
       "      <td>-40.2925</td>\n",
       "      <td>300.12</td>\n",
       "      <td>94</td>\n",
       "      <td>0</td>\n",
       "      <td>3.60</td>\n",
       "      <td>BR</td>\n",
       "      <td>1706672734</td>\n",
       "    </tr>\n",
       "    <tr>\n",
       "      <th>3</th>\n",
       "      <td>3</td>\n",
       "      <td>Quellón</td>\n",
       "      <td>-43.1167</td>\n",
       "      <td>-73.6167</td>\n",
       "      <td>287.33</td>\n",
       "      <td>93</td>\n",
       "      <td>96</td>\n",
       "      <td>2.39</td>\n",
       "      <td>CL</td>\n",
       "      <td>1706672605</td>\n",
       "    </tr>\n",
       "    <tr>\n",
       "      <th>4</th>\n",
       "      <td>4</td>\n",
       "      <td>Bilibino</td>\n",
       "      <td>68.0546</td>\n",
       "      <td>166.4372</td>\n",
       "      <td>239.43</td>\n",
       "      <td>99</td>\n",
       "      <td>100</td>\n",
       "      <td>0.16</td>\n",
       "      <td>RU</td>\n",
       "      <td>1706672735</td>\n",
       "    </tr>\n",
       "  </tbody>\n",
       "</table>\n",
       "</div>"
      ],
      "text/plain": [
       "   City_ID        City      Lat       Lng  Max Temp (K)  Humidity  Cloudiness  \\\n",
       "0        0  Bredasdorp -34.5322   20.0403        291.40        96          76   \n",
       "1        1     College  64.8569 -147.8028        246.14        61          75   \n",
       "2        2  Vila Velha -20.3297  -40.2925        300.12        94           0   \n",
       "3        3     Quellón -43.1167  -73.6167        287.33        93          96   \n",
       "4        4    Bilibino  68.0546  166.4372        239.43        99         100   \n",
       "\n",
       "   Wind Speed Country        Date  \n",
       "0        1.21      ZA  1706672733  \n",
       "1        1.54      US  1706672734  \n",
       "2        3.60      BR  1706672734  \n",
       "3        2.39      CL  1706672605  \n",
       "4        0.16      RU  1706672735  "
      ]
     },
     "execution_count": 2,
     "metadata": {},
     "output_type": "execute_result"
    }
   ],
   "source": [
    "# Load the CSV file created in Part 1 into a Pandas DataFrame\n",
    "city_data_df = pd.read_csv(\"../output_data/cities.csv\")\n",
    "\n",
    "# Display sample data\n",
    "city_data_df.head()"
   ]
  },
  {
   "cell_type": "markdown",
   "metadata": {},
   "source": [
    "---\n",
    "\n",
    "### Step 1: Create a map that displays a point for every city in the `city_data_df` DataFrame. The size of the point should be the humidity in each city."
   ]
  },
  {
   "cell_type": "code",
   "execution_count": 3,
   "metadata": {},
   "outputs": [
    {
     "data": {},
     "metadata": {},
     "output_type": "display_data"
    },
    {
     "data": {
      "application/vnd.holoviews_exec.v0+json": "",
      "text/html": [
       "<div id='p1005'>\n",
       "  <div id=\"baf58a7e-746d-4090-9160-14bce9006985\" data-root-id=\"p1005\" style=\"display: contents;\"></div>\n",
       "</div>\n",
       "<script type=\"application/javascript\">(function(root) {\n",
       "  var docs_json = {\"c2d194f2-25e1-4ebd-9f07-745170b97db5\":{\"version\":\"3.2.1\",\"title\":\"Bokeh Application\",\"roots\":[{\"type\":\"object\",\"name\":\"Row\",\"id\":\"p1005\",\"attributes\":{\"name\":\"Row01582\",\"tags\":[\"embedded\"],\"stylesheets\":[\"\\n:host(.pn-loading.pn-arc):before, .pn-loading.pn-arc:before {\\n  background-image: url(\\\"data:image/svg+xml;base64,PHN2ZyB4bWxucz0iaHR0cDovL3d3dy53My5vcmcvMjAwMC9zdmciIHN0eWxlPSJtYXJnaW46IGF1dG87IGJhY2tncm91bmQ6IG5vbmU7IGRpc3BsYXk6IGJsb2NrOyBzaGFwZS1yZW5kZXJpbmc6IGF1dG87IiB2aWV3Qm94PSIwIDAgMTAwIDEwMCIgcHJlc2VydmVBc3BlY3RSYXRpbz0ieE1pZFlNaWQiPiAgPGNpcmNsZSBjeD0iNTAiIGN5PSI1MCIgZmlsbD0ibm9uZSIgc3Ryb2tlPSIjYzNjM2MzIiBzdHJva2Utd2lkdGg9IjEwIiByPSIzNSIgc3Ryb2tlLWRhc2hhcnJheT0iMTY0LjkzMzYxNDMxMzQ2NDE1IDU2Ljk3Nzg3MTQzNzgyMTM4Ij4gICAgPGFuaW1hdGVUcmFuc2Zvcm0gYXR0cmlidXRlTmFtZT0idHJhbnNmb3JtIiB0eXBlPSJyb3RhdGUiIHJlcGVhdENvdW50PSJpbmRlZmluaXRlIiBkdXI9IjFzIiB2YWx1ZXM9IjAgNTAgNTA7MzYwIDUwIDUwIiBrZXlUaW1lcz0iMDsxIj48L2FuaW1hdGVUcmFuc2Zvcm0+ICA8L2NpcmNsZT48L3N2Zz4=\\\");\\n  background-size: auto calc(min(50%, 400px));\\n}\",{\"type\":\"object\",\"name\":\"ImportedStyleSheet\",\"id\":\"p1008\",\"attributes\":{\"url\":\"https://cdn.holoviz.org/panel/1.2.3/dist/css/loading.css\"}},{\"type\":\"object\",\"name\":\"ImportedStyleSheet\",\"id\":\"p1085\",\"attributes\":{\"url\":\"https://cdn.holoviz.org/panel/1.2.3/dist/css/listpanel.css\"}},{\"type\":\"object\",\"name\":\"ImportedStyleSheet\",\"id\":\"p1006\",\"attributes\":{\"url\":\"https://cdn.holoviz.org/panel/1.2.3/dist/bundled/theme/default.css\"}},{\"type\":\"object\",\"name\":\"ImportedStyleSheet\",\"id\":\"p1007\",\"attributes\":{\"url\":\"https://cdn.holoviz.org/panel/1.2.3/dist/bundled/theme/native.css\"}}],\"margin\":0,\"sizing_mode\":\"stretch_width\",\"align\":\"start\",\"children\":[{\"type\":\"object\",\"name\":\"Spacer\",\"id\":\"p1009\",\"attributes\":{\"name\":\"HSpacer01592\",\"stylesheets\":[\"\\n:host(.pn-loading.pn-arc):before, .pn-loading.pn-arc:before {\\n  background-image: url(\\\"data:image/svg+xml;base64,PHN2ZyB4bWxucz0iaHR0cDovL3d3dy53My5vcmcvMjAwMC9zdmciIHN0eWxlPSJtYXJnaW46IGF1dG87IGJhY2tncm91bmQ6IG5vbmU7IGRpc3BsYXk6IGJsb2NrOyBzaGFwZS1yZW5kZXJpbmc6IGF1dG87IiB2aWV3Qm94PSIwIDAgMTAwIDEwMCIgcHJlc2VydmVBc3BlY3RSYXRpbz0ieE1pZFlNaWQiPiAgPGNpcmNsZSBjeD0iNTAiIGN5PSI1MCIgZmlsbD0ibm9uZSIgc3Ryb2tlPSIjYzNjM2MzIiBzdHJva2Utd2lkdGg9IjEwIiByPSIzNSIgc3Ryb2tlLWRhc2hhcnJheT0iMTY0LjkzMzYxNDMxMzQ2NDE1IDU2Ljk3Nzg3MTQzNzgyMTM4Ij4gICAgPGFuaW1hdGVUcmFuc2Zvcm0gYXR0cmlidXRlTmFtZT0idHJhbnNmb3JtIiB0eXBlPSJyb3RhdGUiIHJlcGVhdENvdW50PSJpbmRlZmluaXRlIiBkdXI9IjFzIiB2YWx1ZXM9IjAgNTAgNTA7MzYwIDUwIDUwIiBrZXlUaW1lcz0iMDsxIj48L2FuaW1hdGVUcmFuc2Zvcm0+ICA8L2NpcmNsZT48L3N2Zz4=\\\");\\n  background-size: auto calc(min(50%, 400px));\\n}\",{\"id\":\"p1008\"},{\"id\":\"p1006\"},{\"id\":\"p1007\"}],\"margin\":0,\"sizing_mode\":\"stretch_width\",\"align\":\"start\"}},{\"type\":\"object\",\"name\":\"Figure\",\"id\":\"p1026\",\"attributes\":{\"width\":null,\"height\":null,\"margin\":[5,10],\"sizing_mode\":\"fixed\",\"align\":\"start\",\"x_range\":{\"type\":\"object\",\"name\":\"Range1d\",\"id\":\"p1016\",\"attributes\":{\"tags\":[[[\"Lng\",\"Lng\",null]],[]],\"start\":-22307849.75137283,\"end\":22231774.011364706,\"reset_start\":-22307849.75137283,\"reset_end\":22231774.011364706,\"min_interval\":5}},\"y_range\":{\"type\":\"object\",\"name\":\"Range1d\",\"id\":\"p1017\",\"attributes\":{\"tags\":[[[\"Lat\",\"Lat\",null]],{\"type\":\"map\",\"entries\":[[\"invert_yaxis\",false],[\"autorange\",false]]}],\"start\":-10336810.906257743,\"end\":17500453.94545321,\"reset_start\":-10336810.906257743,\"reset_end\":17500453.94545321,\"min_interval\":5}},\"x_scale\":{\"type\":\"object\",\"name\":\"LinearScale\",\"id\":\"p1036\"},\"y_scale\":{\"type\":\"object\",\"name\":\"LinearScale\",\"id\":\"p1037\"},\"title\":{\"type\":\"object\",\"name\":\"Title\",\"id\":\"p1029\",\"attributes\":{\"text\":\"City Map\",\"text_color\":\"black\",\"text_font_size\":\"12pt\"}},\"renderers\":[{\"type\":\"object\",\"name\":\"TileRenderer\",\"id\":\"p1061\",\"attributes\":{\"level\":\"glyph\",\"tile_source\":{\"type\":\"object\",\"name\":\"WMTSTileSource\",\"id\":\"p1057\",\"attributes\":{\"url\":\"https://cartodb-basemaps-4.global.ssl.fastly.net/light_all/{Z}/{X}/{Y}.png\",\"attribution\":\"&copy; <a href=\\\"https://www.openstreetmap.org/copyright\\\">OpenStreetMap</a> contributors, &copy; <a href=\\\"https://cartodb.com/attributions\\\">CartoDB</a>\"}}}},{\"type\":\"object\",\"name\":\"GlyphRenderer\",\"id\":\"p1075\",\"attributes\":{\"name\":\"color\",\"data_source\":{\"type\":\"object\",\"name\":\"ColumnDataSource\",\"id\":\"p1064\",\"attributes\":{\"selected\":{\"type\":\"object\",\"name\":\"Selection\",\"id\":\"p1065\",\"attributes\":{\"indices\":[],\"line_indices\":[]}},\"selection_policy\":{\"type\":\"object\",\"name\":\"UnionRenderers\",\"id\":\"p1066\"},\"data\":{\"type\":\"map\",\"entries\":[[\"Lng\",{\"type\":\"ndarray\",\"array\":{\"type\":\"bytes\",\"data\":\"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\"},\"shape\":[561],\"dtype\":\"float64\",\"order\":\"little\"}],[\"Lat\",{\"type\":\"ndarray\",\"array\":{\"type\":\"bytes\",\"data\":\"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\"},\"shape\":[561],\"dtype\":\"float64\",\"order\":\"little\"}],[\"City\",{\"type\":\"ndarray\",\"array\":[\"Bredasdorp\",\"College\",\"Vila Velha\",\"Quell\\u00f3n\",\"Bilibino\",\"Margaret River\",\"Port-aux-Fran\\u00e7ais\",\"Geraldton\",\"Udachny\",\"Kavaratti\",\"Adamstown\",\"Poronaysk\",\"Longyearbyen\",\"Constan\\u021ba\",\"Mae Chai\",\"Papatowai\",\"Kununurra\",\"Naryan-Mar\",\"Djibo\",\"Tibati\",\"Uturoa\",\"Wailua Homesteads\",\"Saint-Joseph\",\"Grytviken\",\"Reno\",\"Bethel\",\"Hammerfest\",\"Tiksi\",\"Afaahiti\",\"Luanda\",\"Waitangi\",\"Ixtapa\",\"Chuguyevka\",\"Cologne\",\"Lata\",\"Kiunga\",\"Avarua\",\"Mexico\",\"Ribeira Grande\",\"Vorkuta\",\"Am Timan\",\"Blackmans Bay\",\"Ibiza Town\",\"Iskateley\",\"Iqaluit\",\"Hastings\",\"Amga\",\"Queenstown\",\"Isafjordur\",\"Nha Trang\",\"Enewetak\",\"Holualoa\",\"Invercargill\",\"Undurkhaan\",\"Korla\",\"Yellowknife\",\"Newman\",\"Ushuaia\",\"Hamilton\",\"West Island\",\"Talnakh\",\"Stanley\",\"Yanchep\",\"Kon\\u00e9\",\"Kyab\\u00e9\",\"Ajdabiya\",\"Susuman\",\"Hluti\",\"Tindouf\",\"Yuzhno-Kurilsk\",\"Bezopasnoye\",\"Ancud\",\"Puerto Natales\",\"Saldanha\",\"Vilyuchinsk\",\"Keflavik\",\"Westport\",\"Antofagasta\",\"Nemuro\",\"Hermanus\",\"Edinburgh of the Seven Seas\",\"Gwanda\",\"R\\u0101mhormoz\",\"Verkhotur'ye\",\"Harrismith\",\"Camayenne\",\"Zhalantun\",\"Natal\",\"Crane\",\"Albany\",\"Polyarny\",\"Lubang\",\"Puerto Ayora\",\"Ponta Delgada\",\"Sisimiut\",\"Pitimbu\",\"Olonkinbyen\",\"Vads\\u00f8\",\"Usinsk\",\"Lebu\",\"Sri D\\u016bngargarh\",\"Punta Arenas\",\"San Patricio\",\"Barcelos\",\"Villa Yapacan\\u00ed\",\"Ilulissat\",\"Klyuchi\",\"Greater Sudbury\",\"East London\",\"Chonchi\",\"Santa Terezinha\",\"Utrik\",\"Seydi\",\"Mitsamiouli\",\"Sitka\",\"Byron Bay\",\"Le Port\",\"Alto Barinas\",\"Nuuk\",\"Carbonear\",\"Port Elizabeth\",\"George Town\",\"Cockburn Town\",\"Sittwe\",\"T\\u00f4lanaro\",\"Mount Gambier\",\"Whitehorse\",\"Aral\",\"Khandyga\",\"Sinop Province\",\"Glace Bay\",\"Lompoc\",\"Neryungri\",\"Mi\\u00f0v\\u00e1gur\",\"Arn\\u00f6\",\"Phan Rang-Thap Cham\",\"Tsiombe\",\"Port Macquarie\",\"Lerwick\",\"Sang\\u012bn\",\"Afgooye\",\"Finisterra\",\"Wynyard\",\"Kirakira\",\"Atafu Village\",\"Ouarzazate\",\"Trenggalek\",\"Kingston\",\"Rio Grande\",\"Huarmey\",\"Bentiu\",\"Torghay\",\"Ust-Tsilma\",\"Phalia\",\"Ado-Odo\",\"Touros\",\"Jamaame\",\"Bambanglipuro\",\"B\\u00e9labo\",\"Dudinka\",\"Sotouboua\",\"Ngereklmadel\",\"Hawaiian Paradise Park\",\"Novy Urengoy\",\"Ust'-Kut\",\"Tchollir\\u00e9\",\"Korsakov\",\"Calipatria\",\"Nagqu Prefecture\",\"Chiredzi\",\"Saipan\",\"Walvis Bay\",\"Tazovsky\",\"Carthage\",\"Ocean Shores\",\"Tripoli\",\"Thompson\",\"Saint-Pierre\",\"Mar del Plata\",\"Arraial do Cabo\",\"Dyurtyuli\",\"Kampung Simpang Renggam\",\"Pemba\",\"Erenhot\",\"Karratha\",\"Bandarbeyla\",\"Tsengel\",\"Banda Aceh\",\"Wau\",\"Lhasa\",\"Emerald\",\"Dehlor\\u0101n\",\"Lihue\",\"Al Baw\\u012b\\u0163\\u012b\",\"Borgarnes\",\"Ch\\u0101l\\u016bs\",\"Massenya\",\"Shing\\u016b\",\"Chui\",\"Tinajo\",\"Tshabong\",\"Piti Village\",\"Sarina\",\"Novodvinsk\",\"Petropavlovsk-Kamchatskiy\",\"Nova Sintra\",\"Carutapera\",\"Lyantonde\",\"Thunder Bay\",\"Xuanzhou\",\"Bayanhongor\",\"Fonte Boa\",\"Aasiaat\",\"Kailua-Kona\",\"Howrah\",\"Puerto Ais\\u00e9n\",\"Uspenskoye\",\"Sabang\",\"Villa Gesell\",\"Kerikeri\",\"Balnearia\",\"Obiaruku\",\"Pandan\",\"Yeed\",\"Merizo Village\",\"Kurye\",\"Saint John\",\"Kismayo\",\"Celest\\u00fan\",\"Lock Haven\",\"Sauk Village\",\"Espa\\u00f1ola\",\"Reng\\u0101li\",\"Maragogi\",\"Guarapari\",\"Fort Bragg\",\"Distrikt Paramaribo\",\"Boyolangu\",\"Guiuan\",\"Lesnoy\",\"Dubovka\",\"Mayiladuthurai\",\"Egilsstadir\",\"Kuanda\",\"Lubumbashi\",\"Adorf\",\"Houghton\",\"New Plymouth\",\"Waiuku\",\"Anadyr\",\"Bonthe\",\"Diamantino\",\"Ivdel'\",\"Kitimat\",\"Magong\",\"Eureka\",\"Masterton\",\"Hargeisa\",\"M\\u012bzan Tefer\\u012b\",\"Jerome\",\"Hadibu\",\"Villa de San Antonio\",\"Mana\",\"Haiku-Pauwela\",\"Kidal\",\"Bac Lieu\",\"Kurri Kurri\",\"Hithadhoo\",\"Beledweyne\",\"Akureyri\",\"Labytnangi\",\"Badger\",\"Okhotsk\",\"Inari\",\"Charters Towers\",\"New Norfolk\",\"Takaungu\",\"Jishou\",\"Mogocha\",\"Daru\",\"Belyy Yar\",\"P\\u0101vilosta\",\"Vernon\",\"Alice Springs\",\"Port Mathurin\",\"Happy Valley-Goose Bay\",\"Mor\\u00f3n\",\"Beira\",\"Palmer\",\"Puerto Baquerizo Moreno\",\"Isangel\",\"Ust-Nera\",\"Mal\\u00e9\",\"Coquimbo\",\"Bridgewater\",\"Jamestown\",\"Cardoso\",\"Ad Dilam\",\"Port Alfred\",\"Port Saint John's\",\"Santo Ant\\u00f4nio do I\\u00e7\\u00e1\",\"Bardai\",\"Sur\",\"Mahibadhoo\",\"Luang Prabang\",\"Kill Devil Hills\",\"Santiago de Cao\",\"Ixtlahuac\\u00e1n del R\\u00edo\",\"L\\u0101\\u2018ie\",\"Nouadhibou\",\"Bengkulu\",\"Agadir\",\"Labrador City\",\"Bonnyville\",\"Singkil\",\"Los Altos\",\"Novyy Urgal\",\"Mossamedes\",\"Dhidhdhoo\",\"R\\u0101jgarh\",\"Martil\",\"Keminmaa\",\"Kupiansk\",\"Usogorsk\",\"Nikolayevsk-on-Amur\",\"Pangody\",\"Chokw\\u00e9\",\"Mount Isa\",\"Penzance\",\"Kruisfontein\",\"Tangalle\",\"Las Khorey\",\"Raduzhny\",\"Quelimane\",\"Villa Ojo de Agua\",\"Boromo\",\"Terrace\",\"Vostochnyy\",\"Cecerleg\",\"Hoemul-li\",\"Saint Paul Harbor\",\"Majene\",\"St. John's\",\"Codrington\",\"Grand Falls-Windsor\",\"Fort St. John\",\"Fabens\",\"Shimoda\",\"R\\u00e9mire-Montjoly\",\"Robor\\u00e9\",\"Pariaman\",\"Qurayyat\",\"Puerto Gait\\u00e1n\",\"Roskoshnoye\",\"Papao\",\"Prado\",\"Suicheng\",\"Tanjung Pandan\",\"Kapaa\",\"Alula\",\"Slave Lake\",\"Pyt-Yakh\",\"Areal\",\"Artyom\",\"Merca\",\"Santana\",\"Rundu\",\"Valpara\\u00edso\",\"Lobujya\",\"Carnarvon\",\"Tahe\",\"Cape Canaveral\",\"L\\u0101ksh\\u0101m\",\"Florence\",\"Kalmunai\",\"Qaqortoq\",\"Hauterive\",\"Taylors\",\"Salin\\u00f3polis\",\"Kayamkulam\",\"Toliara\",\"Ust'-Barguzin\",\"Kingaroy\",\"Tura\",\"Tongliao\",\"Puerto Madryn\",\"Muli\",\"Vorgashor\",\"\\u00c7ayeli\",\"Selfoss\",\"Puerto San Jos\\u00e9\",\"Tammela\",\"Kaliua\",\"Vermillion\",\"St Albans\",\"Ad Daw\\u0101dim\\u012b\",\"Isla Mujeres\",\"Saint-Philippe\",\"Port Lincoln\",\"Edd\",\"San Luis de la Loma\",\"Island Harbour\",\"Sosnovo-Ozerskoye\",\"Zou\\u00e9rat\",\"L\\u00fcderitz\",\"Wanlaweyn\",\"Magadan\",\"Bannockburn\",\"East Florence\",\"Ust'-Ilimsk\",\"Princeville\",\"La Ronge\",\"Nyurba\",\"Guerrero Negro\",\"Izluchinsk\",\"Cabrero\",\"Pisco\",\"Cambria\",\"La Santisima Trinidad\",\"Kaura Namoda\",\"Tok\\u0101r\",\"Ode\",\"Port Isabel\",\"Hilton Head\",\"Popondetta\",\"Myskhako\",\"Campo Verde\",\"Pukchil-lodongjagu\",\"Nobres\",\"Nguigmi\",\"Tongren\",\"Distrikt Brokopondo\",\"Nampula\",\"Reggane\",\"Moraleja\",\"Gizo Government Station\",\"Riyadh\",\"Seaford\",\"Al Mahwit\",\"Zaranj\",\"Amb\\u0101garh Chauki\",\"Sau\\u00f0arkrokur\",\"Iida\",\"La Huacana\",\"Portland\",\"Buckingham\",\"Bartica\",\"Malpe\",\"Ilebo\",\"Tashla\",\"Lautoka\",\"L\\u00e1zaro C\\u00e1rdenas\",\"Annau\",\"Kingisepp\",\"Shanhaiguan\",\"Ayoun El Atrous\",\"N\\u0101l\\u016bt\",\"Port Blair\",\"Mount Pearl\",\"Bamboo Flat\",\"Smara\",\"Minas de Marcona\",\"Buala\",\"Midland\",\"La Passe\",\"Fushun\",\"San Antonio de Pal\\u00e9\",\"Victorica\",\"Yangambi\",\"Nevel'sk\",\"Ceeldheer\",\"Kuvandyk\",\"Rupert\",\"Fale old settlement\",\"Tazacorte\",\"Fairmont\",\"Borogontsy\",\"Stornoway\",\"Sylva\",\"Staroaleyskoye\",\"Weno\",\"Bokovskaya\",\"Palu\",\"Albard\\u00f3n\",\"Novo Aripuan\\u00e3\",\"Laguna\",\"Gunsan\",\"S\\u00e3o Jo\\u00e3o da Barra\",\"Moyynkum\",\"Tobol'sk\",\"Thai Nguyen\",\"Paradip\",\"Desvres\",\"Woodlake\",\"Kuala Tungkal\",\"Stuttgart\",\"Jayapura\",\"Marsa Alam\",\"Rock Springs\",\"Bryne\",\"Miyako\",\"Charcas\",\"Loreto\",\"Guajar\\u00e1-Mirim\",\"Chubek\",\"Ganye\",\"Angaur State\",\"Soufri\\u00e8re\",\"Whangarei\",\"Abqaiq\",\"S\\u00e3o Miguel do Araguaia\",\"Chamdo\",\"Georg\\u012bevka\",\"El Jadida\",\"Hard Bargain\",\"Sanctuary Point\",\"Amahai\",\"Fomboni\",\"Cabo San Lucas\",\"Gi\\u017cycko\",\"Puerto Cabezas\",\"Meads\",\"Bulawayo\",\"Beryozovo\",\"Nova Olinda do Norte\",\"Aban\",\"Damboa\",\"Loukhi\",\"Leava\",\"Al Mijlad\",\"Alofi\",\"Tofol\",\"Sinabang\",\"Bridlington\",\"Bhamo\",\"M\\u00f6r\\u00f6n\",\"Goianira\",\"Zambezi\",\"Hasaki\",\"Kamina\",\"Kimbe\",\"Brookings\",\"San Sebasti\\u00e1n de La Gomera\",\"Inhambane\",\"Wauchope\",\"Pemangkat\",\"Alamosa\",\"Liberal\",\"Cologne\",\"Revda\",\"Gao\",\"Tampakan\",\"Kavalerovo\",\"Ta`\\u016b\",\"Fortuna\",\"Kavieng\",\"Shahr-e B\\u0101bak\",\"Jabat\",\"Margate\",\"Moa\",\"Urangan\"],\"shape\":[561],\"dtype\":\"object\",\"order\":\"little\"}],[\"Humidity\",{\"type\":\"ndarray\",\"array\":{\"type\":\"bytes\",\"data\":\"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\"},\"shape\":[561],\"dtype\":\"int32\",\"order\":\"little\"}],[\"color\",{\"type\":\"ndarray\",\"array\":[\"Bredasdorp\",\"College\",\"Vila Velha\",\"Quell\\u00f3n\",\"Bilibino\",\"Margaret River\",\"Port-aux-Fran\\u00e7ais\",\"Geraldton\",\"Udachny\",\"Kavaratti\",\"Adamstown\",\"Poronaysk\",\"Longyearbyen\",\"Constan\\u021ba\",\"Mae Chai\",\"Papatowai\",\"Kununurra\",\"Naryan-Mar\",\"Djibo\",\"Tibati\",\"Uturoa\",\"Wailua Homesteads\",\"Saint-Joseph\",\"Grytviken\",\"Reno\",\"Bethel\",\"Hammerfest\",\"Tiksi\",\"Afaahiti\",\"Luanda\",\"Waitangi\",\"Ixtapa\",\"Chuguyevka\",\"Cologne\",\"Lata\",\"Kiunga\",\"Avarua\",\"Mexico\",\"Ribeira Grande\",\"Vorkuta\",\"Am Timan\",\"Blackmans Bay\",\"Ibiza Town\",\"Iskateley\",\"Iqaluit\",\"Hastings\",\"Amga\",\"Queenstown\",\"Isafjordur\",\"Nha Trang\",\"Enewetak\",\"Holualoa\",\"Invercargill\",\"Undurkhaan\",\"Korla\",\"Yellowknife\",\"Newman\",\"Ushuaia\",\"Hamilton\",\"West Island\",\"Talnakh\",\"Stanley\",\"Yanchep\",\"Kon\\u00e9\",\"Kyab\\u00e9\",\"Ajdabiya\",\"Susuman\",\"Hluti\",\"Tindouf\",\"Yuzhno-Kurilsk\",\"Bezopasnoye\",\"Ancud\",\"Puerto Natales\",\"Saldanha\",\"Vilyuchinsk\",\"Keflavik\",\"Westport\",\"Antofagasta\",\"Nemuro\",\"Hermanus\",\"Edinburgh of the Seven Seas\",\"Gwanda\",\"R\\u0101mhormoz\",\"Verkhotur'ye\",\"Harrismith\",\"Camayenne\",\"Zhalantun\",\"Natal\",\"Crane\",\"Albany\",\"Polyarny\",\"Lubang\",\"Puerto Ayora\",\"Ponta Delgada\",\"Sisimiut\",\"Pitimbu\",\"Olonkinbyen\",\"Vads\\u00f8\",\"Usinsk\",\"Lebu\",\"Sri D\\u016bngargarh\",\"Punta Arenas\",\"San Patricio\",\"Barcelos\",\"Villa Yapacan\\u00ed\",\"Ilulissat\",\"Klyuchi\",\"Greater Sudbury\",\"East London\",\"Chonchi\",\"Santa Terezinha\",\"Utrik\",\"Seydi\",\"Mitsamiouli\",\"Sitka\",\"Byron Bay\",\"Le Port\",\"Alto Barinas\",\"Nuuk\",\"Carbonear\",\"Port Elizabeth\",\"George Town\",\"Cockburn Town\",\"Sittwe\",\"T\\u00f4lanaro\",\"Mount Gambier\",\"Whitehorse\",\"Aral\",\"Khandyga\",\"Sinop Province\",\"Glace Bay\",\"Lompoc\",\"Neryungri\",\"Mi\\u00f0v\\u00e1gur\",\"Arn\\u00f6\",\"Phan Rang-Thap Cham\",\"Tsiombe\",\"Port Macquarie\",\"Lerwick\",\"Sang\\u012bn\",\"Afgooye\",\"Finisterra\",\"Wynyard\",\"Kirakira\",\"Atafu Village\",\"Ouarzazate\",\"Trenggalek\",\"Kingston\",\"Rio Grande\",\"Huarmey\",\"Bentiu\",\"Torghay\",\"Ust-Tsilma\",\"Phalia\",\"Ado-Odo\",\"Touros\",\"Jamaame\",\"Bambanglipuro\",\"B\\u00e9labo\",\"Dudinka\",\"Sotouboua\",\"Ngereklmadel\",\"Hawaiian Paradise Park\",\"Novy Urengoy\",\"Ust'-Kut\",\"Tchollir\\u00e9\",\"Korsakov\",\"Calipatria\",\"Nagqu Prefecture\",\"Chiredzi\",\"Saipan\",\"Walvis Bay\",\"Tazovsky\",\"Carthage\",\"Ocean Shores\",\"Tripoli\",\"Thompson\",\"Saint-Pierre\",\"Mar del Plata\",\"Arraial do Cabo\",\"Dyurtyuli\",\"Kampung Simpang Renggam\",\"Pemba\",\"Erenhot\",\"Karratha\",\"Bandarbeyla\",\"Tsengel\",\"Banda Aceh\",\"Wau\",\"Lhasa\",\"Emerald\",\"Dehlor\\u0101n\",\"Lihue\",\"Al Baw\\u012b\\u0163\\u012b\",\"Borgarnes\",\"Ch\\u0101l\\u016bs\",\"Massenya\",\"Shing\\u016b\",\"Chui\",\"Tinajo\",\"Tshabong\",\"Piti Village\",\"Sarina\",\"Novodvinsk\",\"Petropavlovsk-Kamchatskiy\",\"Nova Sintra\",\"Carutapera\",\"Lyantonde\",\"Thunder Bay\",\"Xuanzhou\",\"Bayanhongor\",\"Fonte Boa\",\"Aasiaat\",\"Kailua-Kona\",\"Howrah\",\"Puerto Ais\\u00e9n\",\"Uspenskoye\",\"Sabang\",\"Villa Gesell\",\"Kerikeri\",\"Balnearia\",\"Obiaruku\",\"Pandan\",\"Yeed\",\"Merizo Village\",\"Kurye\",\"Saint John\",\"Kismayo\",\"Celest\\u00fan\",\"Lock Haven\",\"Sauk Village\",\"Espa\\u00f1ola\",\"Reng\\u0101li\",\"Maragogi\",\"Guarapari\",\"Fort Bragg\",\"Distrikt Paramaribo\",\"Boyolangu\",\"Guiuan\",\"Lesnoy\",\"Dubovka\",\"Mayiladuthurai\",\"Egilsstadir\",\"Kuanda\",\"Lubumbashi\",\"Adorf\",\"Houghton\",\"New Plymouth\",\"Waiuku\",\"Anadyr\",\"Bonthe\",\"Diamantino\",\"Ivdel'\",\"Kitimat\",\"Magong\",\"Eureka\",\"Masterton\",\"Hargeisa\",\"M\\u012bzan Tefer\\u012b\",\"Jerome\",\"Hadibu\",\"Villa de San Antonio\",\"Mana\",\"Haiku-Pauwela\",\"Kidal\",\"Bac Lieu\",\"Kurri Kurri\",\"Hithadhoo\",\"Beledweyne\",\"Akureyri\",\"Labytnangi\",\"Badger\",\"Okhotsk\",\"Inari\",\"Charters Towers\",\"New Norfolk\",\"Takaungu\",\"Jishou\",\"Mogocha\",\"Daru\",\"Belyy Yar\",\"P\\u0101vilosta\",\"Vernon\",\"Alice Springs\",\"Port Mathurin\",\"Happy Valley-Goose Bay\",\"Mor\\u00f3n\",\"Beira\",\"Palmer\",\"Puerto Baquerizo Moreno\",\"Isangel\",\"Ust-Nera\",\"Mal\\u00e9\",\"Coquimbo\",\"Bridgewater\",\"Jamestown\",\"Cardoso\",\"Ad Dilam\",\"Port Alfred\",\"Port Saint John's\",\"Santo Ant\\u00f4nio do I\\u00e7\\u00e1\",\"Bardai\",\"Sur\",\"Mahibadhoo\",\"Luang Prabang\",\"Kill Devil Hills\",\"Santiago de Cao\",\"Ixtlahuac\\u00e1n del R\\u00edo\",\"L\\u0101\\u2018ie\",\"Nouadhibou\",\"Bengkulu\",\"Agadir\",\"Labrador City\",\"Bonnyville\",\"Singkil\",\"Los Altos\",\"Novyy Urgal\",\"Mossamedes\",\"Dhidhdhoo\",\"R\\u0101jgarh\",\"Martil\",\"Keminmaa\",\"Kupiansk\",\"Usogorsk\",\"Nikolayevsk-on-Amur\",\"Pangody\",\"Chokw\\u00e9\",\"Mount Isa\",\"Penzance\",\"Kruisfontein\",\"Tangalle\",\"Las Khorey\",\"Raduzhny\",\"Quelimane\",\"Villa Ojo de Agua\",\"Boromo\",\"Terrace\",\"Vostochnyy\",\"Cecerleg\",\"Hoemul-li\",\"Saint Paul Harbor\",\"Majene\",\"St. John's\",\"Codrington\",\"Grand Falls-Windsor\",\"Fort St. John\",\"Fabens\",\"Shimoda\",\"R\\u00e9mire-Montjoly\",\"Robor\\u00e9\",\"Pariaman\",\"Qurayyat\",\"Puerto Gait\\u00e1n\",\"Roskoshnoye\",\"Papao\",\"Prado\",\"Suicheng\",\"Tanjung Pandan\",\"Kapaa\",\"Alula\",\"Slave Lake\",\"Pyt-Yakh\",\"Areal\",\"Artyom\",\"Merca\",\"Santana\",\"Rundu\",\"Valpara\\u00edso\",\"Lobujya\",\"Carnarvon\",\"Tahe\",\"Cape Canaveral\",\"L\\u0101ksh\\u0101m\",\"Florence\",\"Kalmunai\",\"Qaqortoq\",\"Hauterive\",\"Taylors\",\"Salin\\u00f3polis\",\"Kayamkulam\",\"Toliara\",\"Ust'-Barguzin\",\"Kingaroy\",\"Tura\",\"Tongliao\",\"Puerto Madryn\",\"Muli\",\"Vorgashor\",\"\\u00c7ayeli\",\"Selfoss\",\"Puerto San Jos\\u00e9\",\"Tammela\",\"Kaliua\",\"Vermillion\",\"St Albans\",\"Ad Daw\\u0101dim\\u012b\",\"Isla Mujeres\",\"Saint-Philippe\",\"Port Lincoln\",\"Edd\",\"San Luis de la Loma\",\"Island Harbour\",\"Sosnovo-Ozerskoye\",\"Zou\\u00e9rat\",\"L\\u00fcderitz\",\"Wanlaweyn\",\"Magadan\",\"Bannockburn\",\"East Florence\",\"Ust'-Ilimsk\",\"Princeville\",\"La Ronge\",\"Nyurba\",\"Guerrero Negro\",\"Izluchinsk\",\"Cabrero\",\"Pisco\",\"Cambria\",\"La Santisima Trinidad\",\"Kaura Namoda\",\"Tok\\u0101r\",\"Ode\",\"Port Isabel\",\"Hilton Head\",\"Popondetta\",\"Myskhako\",\"Campo Verde\",\"Pukchil-lodongjagu\",\"Nobres\",\"Nguigmi\",\"Tongren\",\"Distrikt Brokopondo\",\"Nampula\",\"Reggane\",\"Moraleja\",\"Gizo Government Station\",\"Riyadh\",\"Seaford\",\"Al Mahwit\",\"Zaranj\",\"Amb\\u0101garh Chauki\",\"Sau\\u00f0arkrokur\",\"Iida\",\"La Huacana\",\"Portland\",\"Buckingham\",\"Bartica\",\"Malpe\",\"Ilebo\",\"Tashla\",\"Lautoka\",\"L\\u00e1zaro C\\u00e1rdenas\",\"Annau\",\"Kingisepp\",\"Shanhaiguan\",\"Ayoun El Atrous\",\"N\\u0101l\\u016bt\",\"Port Blair\",\"Mount Pearl\",\"Bamboo Flat\",\"Smara\",\"Minas de Marcona\",\"Buala\",\"Midland\",\"La Passe\",\"Fushun\",\"San Antonio de Pal\\u00e9\",\"Victorica\",\"Yangambi\",\"Nevel'sk\",\"Ceeldheer\",\"Kuvandyk\",\"Rupert\",\"Fale old settlement\",\"Tazacorte\",\"Fairmont\",\"Borogontsy\",\"Stornoway\",\"Sylva\",\"Staroaleyskoye\",\"Weno\",\"Bokovskaya\",\"Palu\",\"Albard\\u00f3n\",\"Novo Aripuan\\u00e3\",\"Laguna\",\"Gunsan\",\"S\\u00e3o Jo\\u00e3o da Barra\",\"Moyynkum\",\"Tobol'sk\",\"Thai Nguyen\",\"Paradip\",\"Desvres\",\"Woodlake\",\"Kuala Tungkal\",\"Stuttgart\",\"Jayapura\",\"Marsa Alam\",\"Rock Springs\",\"Bryne\",\"Miyako\",\"Charcas\",\"Loreto\",\"Guajar\\u00e1-Mirim\",\"Chubek\",\"Ganye\",\"Angaur State\",\"Soufri\\u00e8re\",\"Whangarei\",\"Abqaiq\",\"S\\u00e3o Miguel do Araguaia\",\"Chamdo\",\"Georg\\u012bevka\",\"El Jadida\",\"Hard Bargain\",\"Sanctuary Point\",\"Amahai\",\"Fomboni\",\"Cabo San Lucas\",\"Gi\\u017cycko\",\"Puerto Cabezas\",\"Meads\",\"Bulawayo\",\"Beryozovo\",\"Nova Olinda do Norte\",\"Aban\",\"Damboa\",\"Loukhi\",\"Leava\",\"Al Mijlad\",\"Alofi\",\"Tofol\",\"Sinabang\",\"Bridlington\",\"Bhamo\",\"M\\u00f6r\\u00f6n\",\"Goianira\",\"Zambezi\",\"Hasaki\",\"Kamina\",\"Kimbe\",\"Brookings\",\"San Sebasti\\u00e1n de La Gomera\",\"Inhambane\",\"Wauchope\",\"Pemangkat\",\"Alamosa\",\"Liberal\",\"Cologne\",\"Revda\",\"Gao\",\"Tampakan\",\"Kavalerovo\",\"Ta`\\u016b\",\"Fortuna\",\"Kavieng\",\"Shahr-e B\\u0101bak\",\"Jabat\",\"Margate\",\"Moa\",\"Urangan\"],\"shape\":[561],\"dtype\":\"object\",\"order\":\"little\"}],[\"size\",{\"type\":\"ndarray\",\"array\":{\"type\":\"bytes\",\"data\":\"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\"},\"shape\":[561],\"dtype\":\"float64\",\"order\":\"little\"}]]}}},\"view\":{\"type\":\"object\",\"name\":\"CDSView\",\"id\":\"p1076\",\"attributes\":{\"filter\":{\"type\":\"object\",\"name\":\"AllIndices\",\"id\":\"p1077\"}}},\"glyph\":{\"type\":\"object\",\"name\":\"Scatter\",\"id\":\"p1070\",\"attributes\":{\"tags\":[\"apply_ranges\"],\"x\":{\"type\":\"field\",\"field\":\"Lng\"},\"y\":{\"type\":\"field\",\"field\":\"Lat\"},\"size\":{\"type\":\"field\",\"field\":\"size\"},\"line_color\":{\"type\":\"field\",\"field\":\"color\",\"transform\":{\"type\":\"object\",\"name\":\"CategoricalColorMapper\",\"id\":\"p1063\",\"attributes\":{\"palette\":[\"#1f77b4\",\"#ff7f0e\",\"#2ca02c\",\"#d62728\",\"#9467bd\",\"#8c564b\",\"#e377c2\",\"#7f7f7f\",\"#bcbd22\",\"#17becf\",\"#1f77b4\",\"#ff7f0e\",\"#2ca02c\",\"#d62728\",\"#9467bd\",\"#8c564b\",\"#e377c2\",\"#7f7f7f\",\"#bcbd22\",\"#17becf\",\"#1f77b4\",\"#ff7f0e\",\"#2ca02c\",\"#d62728\",\"#9467bd\",\"#8c564b\",\"#e377c2\",\"#7f7f7f\",\"#bcbd22\",\"#17becf\",\"#1f77b4\",\"#ff7f0e\",\"#2ca02c\",\"#d62728\",\"#9467bd\",\"#8c564b\",\"#e377c2\",\"#7f7f7f\",\"#bcbd22\",\"#17becf\",\"#1f77b4\",\"#ff7f0e\",\"#2ca02c\",\"#d62728\",\"#9467bd\",\"#8c564b\",\"#e377c2\",\"#7f7f7f\",\"#bcbd22\",\"#17becf\",\"#1f77b4\",\"#ff7f0e\",\"#2ca02c\",\"#d62728\",\"#9467bd\",\"#8c564b\",\"#e377c2\",\"#7f7f7f\",\"#bcbd22\",\"#17becf\",\"#1f77b4\",\"#ff7f0e\",\"#2ca02c\",\"#d62728\",\"#9467bd\",\"#8c564b\",\"#e377c2\",\"#7f7f7f\",\"#bcbd22\",\"#17becf\",\"#1f77b4\",\"#ff7f0e\",\"#2ca02c\",\"#d62728\",\"#9467bd\",\"#8c564b\",\"#e377c2\",\"#7f7f7f\",\"#bcbd22\",\"#17becf\",\"#1f77b4\",\"#ff7f0e\",\"#2ca02c\",\"#d62728\",\"#9467bd\",\"#8c564b\",\"#e377c2\",\"#7f7f7f\",\"#bcbd22\",\"#17becf\",\"#1f77b4\",\"#ff7f0e\",\"#2ca02c\",\"#d62728\",\"#9467bd\",\"#8c564b\",\"#e377c2\",\"#7f7f7f\",\"#bcbd22\",\"#17becf\",\"#1f77b4\",\"#ff7f0e\",\"#2ca02c\",\"#d62728\",\"#9467bd\",\"#8c564b\",\"#e377c2\",\"#7f7f7f\",\"#bcbd22\",\"#17becf\",\"#1f77b4\",\"#ff7f0e\",\"#2ca02c\",\"#d62728\",\"#9467bd\",\"#8c564b\",\"#e377c2\",\"#7f7f7f\",\"#bcbd22\",\"#17becf\",\"#1f77b4\",\"#ff7f0e\",\"#2ca02c\",\"#d62728\",\"#9467bd\",\"#8c564b\",\"#e377c2\",\"#7f7f7f\",\"#bcbd22\",\"#17becf\",\"#1f77b4\",\"#ff7f0e\",\"#2ca02c\",\"#d62728\",\"#9467bd\",\"#8c564b\",\"#e377c2\",\"#7f7f7f\",\"#bcbd22\",\"#17becf\",\"#1f77b4\",\"#ff7f0e\",\"#2ca02c\",\"#d62728\",\"#9467bd\",\"#8c564b\",\"#e377c2\",\"#7f7f7f\",\"#bcbd22\",\"#17becf\",\"#1f77b4\",\"#ff7f0e\",\"#2ca02c\",\"#d62728\",\"#9467bd\",\"#8c564b\",\"#e377c2\",\"#7f7f7f\",\"#bcbd22\",\"#17becf\",\"#1f77b4\",\"#ff7f0e\",\"#2ca02c\",\"#d62728\",\"#9467bd\",\"#8c564b\",\"#e377c2\",\"#7f7f7f\",\"#bcbd22\",\"#17becf\",\"#1f77b4\",\"#ff7f0e\",\"#2ca02c\",\"#d62728\",\"#9467bd\",\"#8c564b\",\"#e377c2\",\"#7f7f7f\",\"#bcbd22\",\"#17becf\",\"#1f77b4\",\"#ff7f0e\",\"#2ca02c\",\"#d62728\",\"#9467bd\",\"#8c564b\",\"#e377c2\",\"#7f7f7f\",\"#bcbd22\",\"#17becf\",\"#1f77b4\",\"#ff7f0e\",\"#2ca02c\",\"#d62728\",\"#9467bd\",\"#8c564b\",\"#e377c2\",\"#7f7f7f\",\"#bcbd22\",\"#17becf\",\"#1f77b4\",\"#ff7f0e\",\"#2ca02c\",\"#d62728\",\"#9467bd\",\"#8c564b\",\"#e377c2\",\"#7f7f7f\",\"#bcbd22\",\"#17becf\",\"#1f77b4\",\"#ff7f0e\",\"#2ca02c\",\"#d62728\",\"#9467bd\",\"#8c564b\",\"#e377c2\",\"#7f7f7f\",\"#bcbd22\",\"#17becf\",\"#1f77b4\",\"#ff7f0e\",\"#2ca02c\",\"#d62728\",\"#9467bd\",\"#8c564b\",\"#e377c2\",\"#7f7f7f\",\"#bcbd22\",\"#17becf\",\"#1f77b4\",\"#ff7f0e\",\"#2ca02c\",\"#d62728\",\"#9467bd\",\"#8c564b\",\"#e377c2\",\"#7f7f7f\",\"#bcbd22\",\"#17becf\",\"#1f77b4\",\"#ff7f0e\",\"#2ca02c\",\"#d62728\",\"#9467bd\",\"#8c564b\",\"#e377c2\",\"#7f7f7f\",\"#bcbd22\",\"#17becf\",\"#1f77b4\",\"#ff7f0e\",\"#2ca02c\",\"#d62728\",\"#9467bd\",\"#8c564b\",\"#e377c2\",\"#7f7f7f\",\"#bcbd22\",\"#17becf\",\"#1f77b4\",\"#ff7f0e\",\"#2ca02c\",\"#d62728\",\"#9467bd\",\"#8c564b\",\"#e377c2\",\"#7f7f7f\",\"#bcbd22\",\"#17becf\",\"#1f77b4\",\"#ff7f0e\",\"#2ca02c\",\"#d62728\",\"#9467bd\",\"#8c564b\",\"#e377c2\",\"#7f7f7f\",\"#bcbd22\",\"#17becf\",\"#1f77b4\",\"#ff7f0e\",\"#2ca02c\",\"#d62728\",\"#9467bd\",\"#8c564b\",\"#e377c2\",\"#7f7f7f\",\"#bcbd22\",\"#17becf\",\"#1f77b4\",\"#ff7f0e\",\"#2ca02c\",\"#d62728\",\"#9467bd\",\"#8c564b\",\"#e377c2\",\"#7f7f7f\",\"#bcbd22\",\"#17becf\",\"#1f77b4\",\"#ff7f0e\",\"#2ca02c\",\"#d62728\",\"#9467bd\",\"#8c564b\",\"#e377c2\",\"#7f7f7f\",\"#bcbd22\",\"#17becf\",\"#1f77b4\",\"#ff7f0e\",\"#2ca02c\",\"#d62728\",\"#9467bd\",\"#8c564b\",\"#e377c2\",\"#7f7f7f\",\"#bcbd22\",\"#17becf\",\"#1f77b4\",\"#ff7f0e\",\"#2ca02c\",\"#d62728\",\"#9467bd\",\"#8c564b\",\"#e377c2\",\"#7f7f7f\",\"#bcbd22\",\"#17becf\",\"#1f77b4\",\"#ff7f0e\",\"#2ca02c\",\"#d62728\",\"#9467bd\",\"#8c564b\",\"#e377c2\",\"#7f7f7f\",\"#bcbd22\",\"#17becf\",\"#1f77b4\",\"#ff7f0e\",\"#2ca02c\",\"#d62728\",\"#9467bd\",\"#8c564b\",\"#e377c2\",\"#7f7f7f\",\"#bcbd22\",\"#17becf\",\"#1f77b4\",\"#ff7f0e\",\"#2ca02c\",\"#d62728\",\"#9467bd\",\"#8c564b\",\"#e377c2\",\"#7f7f7f\",\"#bcbd22\",\"#17becf\",\"#1f77b4\",\"#ff7f0e\",\"#2ca02c\",\"#d62728\",\"#9467bd\",\"#8c564b\",\"#e377c2\",\"#7f7f7f\",\"#bcbd22\",\"#17becf\",\"#1f77b4\",\"#ff7f0e\",\"#2ca02c\",\"#d62728\",\"#9467bd\",\"#8c564b\",\"#e377c2\",\"#7f7f7f\",\"#bcbd22\",\"#17becf\",\"#1f77b4\",\"#ff7f0e\",\"#2ca02c\",\"#d62728\",\"#9467bd\",\"#8c564b\",\"#e377c2\",\"#7f7f7f\",\"#bcbd22\",\"#17becf\",\"#1f77b4\",\"#ff7f0e\",\"#2ca02c\",\"#d62728\",\"#9467bd\",\"#8c564b\",\"#e377c2\",\"#7f7f7f\",\"#bcbd22\",\"#17becf\",\"#1f77b4\",\"#ff7f0e\",\"#2ca02c\",\"#d62728\",\"#9467bd\",\"#8c564b\",\"#e377c2\",\"#7f7f7f\",\"#bcbd22\",\"#17becf\",\"#1f77b4\",\"#ff7f0e\",\"#2ca02c\",\"#d62728\",\"#9467bd\",\"#8c564b\",\"#e377c2\",\"#7f7f7f\",\"#bcbd22\",\"#17becf\",\"#1f77b4\",\"#ff7f0e\",\"#2ca02c\",\"#d62728\",\"#9467bd\",\"#8c564b\",\"#e377c2\",\"#7f7f7f\",\"#bcbd22\",\"#17becf\",\"#1f77b4\",\"#ff7f0e\",\"#2ca02c\",\"#d62728\",\"#9467bd\",\"#8c564b\",\"#e377c2\",\"#7f7f7f\",\"#bcbd22\",\"#17becf\",\"#1f77b4\",\"#ff7f0e\",\"#2ca02c\",\"#d62728\",\"#9467bd\",\"#8c564b\",\"#e377c2\",\"#7f7f7f\",\"#bcbd22\",\"#17becf\",\"#1f77b4\",\"#ff7f0e\",\"#2ca02c\",\"#d62728\",\"#9467bd\",\"#8c564b\",\"#e377c2\",\"#7f7f7f\",\"#bcbd22\",\"#17becf\",\"#1f77b4\",\"#ff7f0e\",\"#2ca02c\",\"#d62728\",\"#9467bd\",\"#8c564b\",\"#e377c2\",\"#7f7f7f\",\"#bcbd22\",\"#17becf\",\"#1f77b4\",\"#ff7f0e\",\"#2ca02c\",\"#d62728\",\"#9467bd\",\"#8c564b\",\"#e377c2\",\"#7f7f7f\",\"#bcbd22\",\"#17becf\",\"#1f77b4\",\"#ff7f0e\",\"#2ca02c\",\"#d62728\",\"#9467bd\",\"#8c564b\",\"#e377c2\",\"#7f7f7f\",\"#bcbd22\",\"#17becf\",\"#1f77b4\",\"#ff7f0e\",\"#2ca02c\",\"#d62728\",\"#9467bd\",\"#8c564b\",\"#e377c2\",\"#7f7f7f\",\"#bcbd22\",\"#17becf\",\"#1f77b4\",\"#ff7f0e\",\"#2ca02c\",\"#d62728\",\"#9467bd\",\"#8c564b\",\"#e377c2\",\"#7f7f7f\",\"#bcbd22\",\"#17becf\",\"#1f77b4\",\"#ff7f0e\",\"#2ca02c\",\"#d62728\",\"#9467bd\",\"#8c564b\",\"#e377c2\",\"#7f7f7f\",\"#bcbd22\",\"#17becf\",\"#1f77b4\",\"#ff7f0e\",\"#2ca02c\",\"#d62728\",\"#9467bd\",\"#8c564b\",\"#e377c2\",\"#7f7f7f\",\"#bcbd22\",\"#17becf\",\"#1f77b4\",\"#ff7f0e\",\"#2ca02c\",\"#d62728\",\"#9467bd\",\"#8c564b\",\"#e377c2\",\"#7f7f7f\",\"#bcbd22\",\"#17becf\",\"#1f77b4\",\"#ff7f0e\",\"#2ca02c\",\"#d62728\",\"#9467bd\",\"#8c564b\",\"#e377c2\",\"#7f7f7f\",\"#bcbd22\",\"#17becf\",\"#1f77b4\",\"#ff7f0e\",\"#2ca02c\",\"#d62728\",\"#9467bd\",\"#8c564b\",\"#e377c2\",\"#7f7f7f\",\"#bcbd22\",\"#17becf\"],\"factors\":[\"Bredasdorp\",\"College\",\"Vila Velha\",\"Quell\\u00f3n\",\"Bilibino\",\"Margaret River\",\"Port-aux-Fran\\u00e7ais\",\"Geraldton\",\"Udachny\",\"Kavaratti\",\"Adamstown\",\"Poronaysk\",\"Longyearbyen\",\"Constan\\u021ba\",\"Mae Chai\",\"Papatowai\",\"Kununurra\",\"Naryan-Mar\",\"Djibo\",\"Tibati\",\"Uturoa\",\"Wailua Homesteads\",\"Saint-Joseph\",\"Grytviken\",\"Reno\",\"Bethel\",\"Hammerfest\",\"Tiksi\",\"Afaahiti\",\"Luanda\",\"Waitangi\",\"Ixtapa\",\"Chuguyevka\",\"Cologne\",\"Lata\",\"Kiunga\",\"Avarua\",\"Mexico\",\"Ribeira Grande\",\"Vorkuta\",\"Am Timan\",\"Blackmans Bay\",\"Ibiza Town\",\"Iskateley\",\"Iqaluit\",\"Hastings\",\"Amga\",\"Queenstown\",\"Isafjordur\",\"Nha Trang\",\"Enewetak\",\"Holualoa\",\"Invercargill\",\"Undurkhaan\",\"Korla\",\"Yellowknife\",\"Newman\",\"Ushuaia\",\"Hamilton\",\"West Island\",\"Talnakh\",\"Stanley\",\"Yanchep\",\"Kon\\u00e9\",\"Kyab\\u00e9\",\"Ajdabiya\",\"Susuman\",\"Hluti\",\"Tindouf\",\"Yuzhno-Kurilsk\",\"Bezopasnoye\",\"Ancud\",\"Puerto Natales\",\"Saldanha\",\"Vilyuchinsk\",\"Keflavik\",\"Westport\",\"Antofagasta\",\"Nemuro\",\"Hermanus\",\"Edinburgh of the Seven Seas\",\"Gwanda\",\"R\\u0101mhormoz\",\"Verkhotur'ye\",\"Harrismith\",\"Camayenne\",\"Zhalantun\",\"Natal\",\"Crane\",\"Albany\",\"Polyarny\",\"Lubang\",\"Puerto Ayora\",\"Ponta Delgada\",\"Sisimiut\",\"Pitimbu\",\"Olonkinbyen\",\"Vads\\u00f8\",\"Usinsk\",\"Lebu\",\"Sri D\\u016bngargarh\",\"Punta Arenas\",\"San Patricio\",\"Barcelos\",\"Villa Yapacan\\u00ed\",\"Ilulissat\",\"Klyuchi\",\"Greater Sudbury\",\"East London\",\"Chonchi\",\"Santa Terezinha\",\"Utrik\",\"Seydi\",\"Mitsamiouli\",\"Sitka\",\"Byron Bay\",\"Le Port\",\"Alto Barinas\",\"Nuuk\",\"Carbonear\",\"Port Elizabeth\",\"George Town\",\"Cockburn Town\",\"Sittwe\",\"T\\u00f4lanaro\",\"Mount Gambier\",\"Whitehorse\",\"Aral\",\"Khandyga\",\"Sinop Province\",\"Glace Bay\",\"Lompoc\",\"Neryungri\",\"Mi\\u00f0v\\u00e1gur\",\"Arn\\u00f6\",\"Phan Rang-Thap Cham\",\"Tsiombe\",\"Port Macquarie\",\"Lerwick\",\"Sang\\u012bn\",\"Afgooye\",\"Finisterra\",\"Wynyard\",\"Kirakira\",\"Atafu Village\",\"Ouarzazate\",\"Trenggalek\",\"Kingston\",\"Rio Grande\",\"Huarmey\",\"Bentiu\",\"Torghay\",\"Ust-Tsilma\",\"Phalia\",\"Ado-Odo\",\"Touros\",\"Jamaame\",\"Bambanglipuro\",\"B\\u00e9labo\",\"Dudinka\",\"Sotouboua\",\"Ngereklmadel\",\"Hawaiian Paradise Park\",\"Novy Urengoy\",\"Ust'-Kut\",\"Tchollir\\u00e9\",\"Korsakov\",\"Calipatria\",\"Nagqu Prefecture\",\"Chiredzi\",\"Saipan\",\"Walvis Bay\",\"Tazovsky\",\"Carthage\",\"Ocean Shores\",\"Tripoli\",\"Thompson\",\"Saint-Pierre\",\"Mar del Plata\",\"Arraial do Cabo\",\"Dyurtyuli\",\"Kampung Simpang Renggam\",\"Pemba\",\"Erenhot\",\"Karratha\",\"Bandarbeyla\",\"Tsengel\",\"Banda Aceh\",\"Wau\",\"Lhasa\",\"Emerald\",\"Dehlor\\u0101n\",\"Lihue\",\"Al Baw\\u012b\\u0163\\u012b\",\"Borgarnes\",\"Ch\\u0101l\\u016bs\",\"Massenya\",\"Shing\\u016b\",\"Chui\",\"Tinajo\",\"Tshabong\",\"Piti Village\",\"Sarina\",\"Novodvinsk\",\"Petropavlovsk-Kamchatskiy\",\"Nova Sintra\",\"Carutapera\",\"Lyantonde\",\"Thunder Bay\",\"Xuanzhou\",\"Bayanhongor\",\"Fonte Boa\",\"Aasiaat\",\"Kailua-Kona\",\"Howrah\",\"Puerto Ais\\u00e9n\",\"Uspenskoye\",\"Sabang\",\"Villa Gesell\",\"Kerikeri\",\"Balnearia\",\"Obiaruku\",\"Pandan\",\"Yeed\",\"Merizo Village\",\"Kurye\",\"Saint John\",\"Kismayo\",\"Celest\\u00fan\",\"Lock Haven\",\"Sauk Village\",\"Espa\\u00f1ola\",\"Reng\\u0101li\",\"Maragogi\",\"Guarapari\",\"Fort Bragg\",\"Distrikt Paramaribo\",\"Boyolangu\",\"Guiuan\",\"Lesnoy\",\"Dubovka\",\"Mayiladuthurai\",\"Egilsstadir\",\"Kuanda\",\"Lubumbashi\",\"Adorf\",\"Houghton\",\"New Plymouth\",\"Waiuku\",\"Anadyr\",\"Bonthe\",\"Diamantino\",\"Ivdel'\",\"Kitimat\",\"Magong\",\"Eureka\",\"Masterton\",\"Hargeisa\",\"M\\u012bzan Tefer\\u012b\",\"Jerome\",\"Hadibu\",\"Villa de San Antonio\",\"Mana\",\"Haiku-Pauwela\",\"Kidal\",\"Bac Lieu\",\"Kurri Kurri\",\"Hithadhoo\",\"Beledweyne\",\"Akureyri\",\"Labytnangi\",\"Badger\",\"Okhotsk\",\"Inari\",\"Charters Towers\",\"New Norfolk\",\"Takaungu\",\"Jishou\",\"Mogocha\",\"Daru\",\"Belyy Yar\",\"P\\u0101vilosta\",\"Vernon\",\"Alice Springs\",\"Port Mathurin\",\"Happy Valley-Goose Bay\",\"Mor\\u00f3n\",\"Beira\",\"Palmer\",\"Puerto Baquerizo Moreno\",\"Isangel\",\"Ust-Nera\",\"Mal\\u00e9\",\"Coquimbo\",\"Bridgewater\",\"Jamestown\",\"Cardoso\",\"Ad Dilam\",\"Port Alfred\",\"Port Saint John's\",\"Santo Ant\\u00f4nio do I\\u00e7\\u00e1\",\"Bardai\",\"Sur\",\"Mahibadhoo\",\"Luang Prabang\",\"Kill Devil Hills\",\"Santiago de Cao\",\"Ixtlahuac\\u00e1n del R\\u00edo\",\"L\\u0101\\u2018ie\",\"Nouadhibou\",\"Bengkulu\",\"Agadir\",\"Labrador City\",\"Bonnyville\",\"Singkil\",\"Los Altos\",\"Novyy Urgal\",\"Mossamedes\",\"Dhidhdhoo\",\"R\\u0101jgarh\",\"Martil\",\"Keminmaa\",\"Kupiansk\",\"Usogorsk\",\"Nikolayevsk-on-Amur\",\"Pangody\",\"Chokw\\u00e9\",\"Mount Isa\",\"Penzance\",\"Kruisfontein\",\"Tangalle\",\"Las Khorey\",\"Raduzhny\",\"Quelimane\",\"Villa Ojo de Agua\",\"Boromo\",\"Terrace\",\"Vostochnyy\",\"Cecerleg\",\"Hoemul-li\",\"Saint Paul Harbor\",\"Majene\",\"St. John's\",\"Codrington\",\"Grand Falls-Windsor\",\"Fort St. John\",\"Fabens\",\"Shimoda\",\"R\\u00e9mire-Montjoly\",\"Robor\\u00e9\",\"Pariaman\",\"Qurayyat\",\"Puerto Gait\\u00e1n\",\"Roskoshnoye\",\"Papao\",\"Prado\",\"Suicheng\",\"Tanjung Pandan\",\"Kapaa\",\"Alula\",\"Slave Lake\",\"Pyt-Yakh\",\"Areal\",\"Artyom\",\"Merca\",\"Santana\",\"Rundu\",\"Valpara\\u00edso\",\"Lobujya\",\"Carnarvon\",\"Tahe\",\"Cape Canaveral\",\"L\\u0101ksh\\u0101m\",\"Florence\",\"Kalmunai\",\"Qaqortoq\",\"Hauterive\",\"Taylors\",\"Salin\\u00f3polis\",\"Kayamkulam\",\"Toliara\",\"Ust'-Barguzin\",\"Kingaroy\",\"Tura\",\"Tongliao\",\"Puerto Madryn\",\"Muli\",\"Vorgashor\",\"\\u00c7ayeli\",\"Selfoss\",\"Puerto San Jos\\u00e9\",\"Tammela\",\"Kaliua\",\"Vermillion\",\"St Albans\",\"Ad Daw\\u0101dim\\u012b\",\"Isla Mujeres\",\"Saint-Philippe\",\"Port Lincoln\",\"Edd\",\"San Luis de la Loma\",\"Island Harbour\",\"Sosnovo-Ozerskoye\",\"Zou\\u00e9rat\",\"L\\u00fcderitz\",\"Wanlaweyn\",\"Magadan\",\"Bannockburn\",\"East Florence\",\"Ust'-Ilimsk\",\"Princeville\",\"La Ronge\",\"Nyurba\",\"Guerrero Negro\",\"Izluchinsk\",\"Cabrero\",\"Pisco\",\"Cambria\",\"La Santisima Trinidad\",\"Kaura Namoda\",\"Tok\\u0101r\",\"Ode\",\"Port Isabel\",\"Hilton Head\",\"Popondetta\",\"Myskhako\",\"Campo Verde\",\"Pukchil-lodongjagu\",\"Nobres\",\"Nguigmi\",\"Tongren\",\"Distrikt Brokopondo\",\"Nampula\",\"Reggane\",\"Moraleja\",\"Gizo Government Station\",\"Riyadh\",\"Seaford\",\"Al Mahwit\",\"Zaranj\",\"Amb\\u0101garh Chauki\",\"Sau\\u00f0arkrokur\",\"Iida\",\"La Huacana\",\"Portland\",\"Buckingham\",\"Bartica\",\"Malpe\",\"Ilebo\",\"Tashla\",\"Lautoka\",\"L\\u00e1zaro C\\u00e1rdenas\",\"Annau\",\"Kingisepp\",\"Shanhaiguan\",\"Ayoun El Atrous\",\"N\\u0101l\\u016bt\",\"Port Blair\",\"Mount Pearl\",\"Bamboo Flat\",\"Smara\",\"Minas de Marcona\",\"Buala\",\"Midland\",\"La Passe\",\"Fushun\",\"San Antonio de Pal\\u00e9\",\"Victorica\",\"Yangambi\",\"Nevel'sk\",\"Ceeldheer\",\"Kuvandyk\",\"Rupert\",\"Fale old settlement\",\"Tazacorte\",\"Fairmont\",\"Borogontsy\",\"Stornoway\",\"Sylva\",\"Staroaleyskoye\",\"Weno\",\"Bokovskaya\",\"Palu\",\"Albard\\u00f3n\",\"Novo Aripuan\\u00e3\",\"Laguna\",\"Gunsan\",\"S\\u00e3o Jo\\u00e3o da Barra\",\"Moyynkum\",\"Tobol'sk\",\"Thai Nguyen\",\"Paradip\",\"Desvres\",\"Woodlake\",\"Kuala Tungkal\",\"Stuttgart\",\"Jayapura\",\"Marsa Alam\",\"Rock Springs\",\"Bryne\",\"Miyako\",\"Charcas\",\"Loreto\",\"Guajar\\u00e1-Mirim\",\"Chubek\",\"Ganye\",\"Angaur State\",\"Soufri\\u00e8re\",\"Whangarei\",\"Abqaiq\",\"S\\u00e3o Miguel do Araguaia\",\"Chamdo\",\"Georg\\u012bevka\",\"El Jadida\",\"Hard Bargain\",\"Sanctuary Point\",\"Amahai\",\"Fomboni\",\"Cabo San Lucas\",\"Gi\\u017cycko\",\"Puerto Cabezas\",\"Meads\",\"Bulawayo\",\"Beryozovo\",\"Nova Olinda do Norte\",\"Aban\",\"Damboa\",\"Loukhi\",\"Leava\",\"Al Mijlad\",\"Alofi\",\"Tofol\",\"Sinabang\",\"Bridlington\",\"Bhamo\",\"M\\u00f6r\\u00f6n\",\"Goianira\",\"Zambezi\",\"Hasaki\",\"Kamina\",\"Kimbe\",\"Brookings\",\"San Sebasti\\u00e1n de La Gomera\",\"Inhambane\",\"Wauchope\",\"Pemangkat\",\"Alamosa\",\"Liberal\",\"Revda\",\"Gao\",\"Tampakan\",\"Kavalerovo\",\"Ta`\\u016b\",\"Fortuna\",\"Kavieng\",\"Shahr-e B\\u0101bak\",\"Jabat\",\"Margate\",\"Moa\",\"Urangan\"]}}},\"fill_color\":{\"type\":\"field\",\"field\":\"color\",\"transform\":{\"id\":\"p1063\"}},\"hatch_color\":{\"type\":\"field\",\"field\":\"color\",\"transform\":{\"id\":\"p1063\"}}}},\"selection_glyph\":{\"type\":\"object\",\"name\":\"Scatter\",\"id\":\"p1072\",\"attributes\":{\"tags\":[\"apply_ranges\"],\"x\":{\"type\":\"field\",\"field\":\"Lng\"},\"y\":{\"type\":\"field\",\"field\":\"Lat\"},\"size\":{\"type\":\"field\",\"field\":\"size\"},\"line_color\":{\"type\":\"field\",\"field\":\"color\",\"transform\":{\"id\":\"p1063\"}},\"fill_color\":{\"type\":\"field\",\"field\":\"color\",\"transform\":{\"id\":\"p1063\"}},\"hatch_color\":{\"type\":\"field\",\"field\":\"color\",\"transform\":{\"id\":\"p1063\"}}}},\"nonselection_glyph\":{\"type\":\"object\",\"name\":\"Scatter\",\"id\":\"p1071\",\"attributes\":{\"tags\":[\"apply_ranges\"],\"x\":{\"type\":\"field\",\"field\":\"Lng\"},\"y\":{\"type\":\"field\",\"field\":\"Lat\"},\"size\":{\"type\":\"field\",\"field\":\"size\"},\"line_color\":{\"type\":\"field\",\"field\":\"color\",\"transform\":{\"id\":\"p1063\"}},\"line_alpha\":{\"type\":\"value\",\"value\":0.1},\"fill_color\":{\"type\":\"field\",\"field\":\"color\",\"transform\":{\"id\":\"p1063\"}},\"fill_alpha\":{\"type\":\"value\",\"value\":0.1},\"hatch_color\":{\"type\":\"field\",\"field\":\"color\",\"transform\":{\"id\":\"p1063\"}},\"hatch_alpha\":{\"type\":\"value\",\"value\":0.1}}},\"hover_glyph\":{\"type\":\"object\",\"name\":\"Scatter\",\"id\":\"p1073\",\"attributes\":{\"tags\":[\"apply_ranges\"],\"x\":{\"type\":\"field\",\"field\":\"Lng\"},\"y\":{\"type\":\"field\",\"field\":\"Lat\"},\"size\":{\"type\":\"field\",\"field\":\"size\"},\"line_color\":{\"type\":\"field\",\"field\":\"color\",\"transform\":{\"id\":\"p1063\"}},\"fill_color\":{\"type\":\"field\",\"field\":\"color\",\"transform\":{\"id\":\"p1063\"}},\"hatch_color\":{\"type\":\"field\",\"field\":\"color\",\"transform\":{\"id\":\"p1063\"}}}},\"muted_glyph\":{\"type\":\"object\",\"name\":\"Scatter\",\"id\":\"p1074\",\"attributes\":{\"tags\":[\"apply_ranges\"],\"x\":{\"type\":\"field\",\"field\":\"Lng\"},\"y\":{\"type\":\"field\",\"field\":\"Lat\"},\"size\":{\"type\":\"field\",\"field\":\"size\"},\"line_color\":{\"type\":\"field\",\"field\":\"color\",\"transform\":{\"id\":\"p1063\"}},\"line_alpha\":{\"type\":\"value\",\"value\":0.2},\"fill_color\":{\"type\":\"field\",\"field\":\"color\",\"transform\":{\"id\":\"p1063\"}},\"fill_alpha\":{\"type\":\"value\",\"value\":0.2},\"hatch_color\":{\"type\":\"field\",\"field\":\"color\",\"transform\":{\"id\":\"p1063\"}},\"hatch_alpha\":{\"type\":\"value\",\"value\":0.2}}}}}],\"toolbar\":{\"type\":\"object\",\"name\":\"Toolbar\",\"id\":\"p1035\",\"attributes\":{\"tools\":[{\"type\":\"object\",\"name\":\"WheelZoomTool\",\"id\":\"p1021\",\"attributes\":{\"tags\":[\"hv_created\"],\"zoom_on_axis\":false,\"zoom_together\":\"none\"}},{\"type\":\"object\",\"name\":\"HoverTool\",\"id\":\"p1025\",\"attributes\":{\"tags\":[\"hv_created\"],\"renderers\":[{\"id\":\"p1075\"}],\"tooltips\":[[\"Lng\",\"$x{custom}\"],[\"Lat\",\"$y{custom}\"],[\"City\",\"@{City}\"],[\"Humidity\",\"@{Humidity}\"]],\"formatters\":{\"type\":\"map\",\"entries\":[[\"$x\",{\"type\":\"object\",\"name\":\"CustomJSHover\",\"id\":\"p1080\",\"attributes\":{\"code\":\"\\n        const projections = Bokeh.require(\\\"core/util/projections\\\");\\n        const {snap_x, snap_y} = special_vars\\n        const coords = projections.wgs84_mercator.invert(snap_x, snap_y)\\n        return \\\"\\\" + (coords[0]).toFixed(4)\\n    \"}}],[\"$y\",{\"type\":\"object\",\"name\":\"CustomJSHover\",\"id\":\"p1081\",\"attributes\":{\"code\":\"\\n        const projections = Bokeh.require(\\\"core/util/projections\\\");\\n        const {snap_x, snap_y} = special_vars\\n        const coords = projections.wgs84_mercator.invert(snap_x, snap_y)\\n        return \\\"\\\" + (coords[1]).toFixed(4)\\n    \"}}]]}}},{\"type\":\"object\",\"name\":\"SaveTool\",\"id\":\"p1048\"},{\"type\":\"object\",\"name\":\"PanTool\",\"id\":\"p1049\"},{\"type\":\"object\",\"name\":\"BoxZoomTool\",\"id\":\"p1050\",\"attributes\":{\"overlay\":{\"type\":\"object\",\"name\":\"BoxAnnotation\",\"id\":\"p1051\",\"attributes\":{\"syncable\":false,\"level\":\"overlay\",\"visible\":false,\"left_units\":\"canvas\",\"right_units\":\"canvas\",\"bottom_units\":\"canvas\",\"top_units\":\"canvas\",\"line_color\":\"black\",\"line_alpha\":1.0,\"line_width\":2,\"line_dash\":[4,4],\"fill_color\":\"lightgrey\",\"fill_alpha\":0.5}},\"match_aspect\":true}},{\"type\":\"object\",\"name\":\"ResetTool\",\"id\":\"p1052\"}],\"active_drag\":{\"id\":\"p1049\"}}},\"left\":[{\"type\":\"object\",\"name\":\"LinearAxis\",\"id\":\"p1043\",\"attributes\":{\"ticker\":{\"type\":\"object\",\"name\":\"MercatorTicker\",\"id\":\"p1055\",\"attributes\":{\"mantissas\":[1,2,5],\"dimension\":\"lat\"}},\"formatter\":{\"type\":\"object\",\"name\":\"MercatorTickFormatter\",\"id\":\"p1056\",\"attributes\":{\"dimension\":\"lat\"}},\"axis_label\":\"y\",\"major_label_policy\":{\"type\":\"object\",\"name\":\"AllLabels\",\"id\":\"p1046\"}}}],\"below\":[{\"type\":\"object\",\"name\":\"LinearAxis\",\"id\":\"p1038\",\"attributes\":{\"ticker\":{\"type\":\"object\",\"name\":\"MercatorTicker\",\"id\":\"p1053\",\"attributes\":{\"mantissas\":[1,2,5],\"dimension\":\"lon\"}},\"formatter\":{\"type\":\"object\",\"name\":\"MercatorTickFormatter\",\"id\":\"p1054\",\"attributes\":{\"dimension\":\"lon\"}},\"axis_label\":\"x\",\"major_label_policy\":{\"type\":\"object\",\"name\":\"AllLabels\",\"id\":\"p1041\"}}}],\"center\":[{\"type\":\"object\",\"name\":\"Grid\",\"id\":\"p1042\",\"attributes\":{\"axis\":{\"id\":\"p1038\"},\"grid_line_color\":null}},{\"type\":\"object\",\"name\":\"Grid\",\"id\":\"p1047\",\"attributes\":{\"dimension\":1,\"axis\":{\"id\":\"p1043\"},\"grid_line_color\":null}},{\"type\":\"object\",\"name\":\"Legend\",\"id\":\"p1078\",\"attributes\":{\"click_policy\":\"mute\",\"items\":[{\"type\":\"object\",\"name\":\"LegendItem\",\"id\":\"p1079\",\"attributes\":{\"label\":{\"type\":\"field\",\"field\":\"color\"},\"renderers\":[{\"id\":\"p1075\"}]}}]}}],\"frame_width\":800,\"frame_height\":500,\"min_border_top\":10,\"min_border_bottom\":10,\"min_border_left\":10,\"min_border_right\":10,\"output_backend\":\"webgl\",\"match_aspect\":true}},{\"type\":\"object\",\"name\":\"Spacer\",\"id\":\"p1083\",\"attributes\":{\"name\":\"HSpacer01595\",\"stylesheets\":[\"\\n:host(.pn-loading.pn-arc):before, .pn-loading.pn-arc:before {\\n  background-image: url(\\\"data:image/svg+xml;base64,PHN2ZyB4bWxucz0iaHR0cDovL3d3dy53My5vcmcvMjAwMC9zdmciIHN0eWxlPSJtYXJnaW46IGF1dG87IGJhY2tncm91bmQ6IG5vbmU7IGRpc3BsYXk6IGJsb2NrOyBzaGFwZS1yZW5kZXJpbmc6IGF1dG87IiB2aWV3Qm94PSIwIDAgMTAwIDEwMCIgcHJlc2VydmVBc3BlY3RSYXRpbz0ieE1pZFlNaWQiPiAgPGNpcmNsZSBjeD0iNTAiIGN5PSI1MCIgZmlsbD0ibm9uZSIgc3Ryb2tlPSIjYzNjM2MzIiBzdHJva2Utd2lkdGg9IjEwIiByPSIzNSIgc3Ryb2tlLWRhc2hhcnJheT0iMTY0LjkzMzYxNDMxMzQ2NDE1IDU2Ljk3Nzg3MTQzNzgyMTM4Ij4gICAgPGFuaW1hdGVUcmFuc2Zvcm0gYXR0cmlidXRlTmFtZT0idHJhbnNmb3JtIiB0eXBlPSJyb3RhdGUiIHJlcGVhdENvdW50PSJpbmRlZmluaXRlIiBkdXI9IjFzIiB2YWx1ZXM9IjAgNTAgNTA7MzYwIDUwIDUwIiBrZXlUaW1lcz0iMDsxIj48L2FuaW1hdGVUcmFuc2Zvcm0+ICA8L2NpcmNsZT48L3N2Zz4=\\\");\\n  background-size: auto calc(min(50%, 400px));\\n}\",{\"id\":\"p1008\"},{\"id\":\"p1006\"},{\"id\":\"p1007\"}],\"margin\":0,\"sizing_mode\":\"stretch_width\",\"align\":\"start\"}}]}}],\"defs\":[{\"type\":\"model\",\"name\":\"ReactiveHTML1\"},{\"type\":\"model\",\"name\":\"FlexBox1\",\"properties\":[{\"name\":\"align_content\",\"kind\":\"Any\",\"default\":\"flex-start\"},{\"name\":\"align_items\",\"kind\":\"Any\",\"default\":\"flex-start\"},{\"name\":\"flex_direction\",\"kind\":\"Any\",\"default\":\"row\"},{\"name\":\"flex_wrap\",\"kind\":\"Any\",\"default\":\"wrap\"},{\"name\":\"justify_content\",\"kind\":\"Any\",\"default\":\"flex-start\"}]},{\"type\":\"model\",\"name\":\"FloatPanel1\",\"properties\":[{\"name\":\"config\",\"kind\":\"Any\",\"default\":{\"type\":\"map\"}},{\"name\":\"contained\",\"kind\":\"Any\",\"default\":true},{\"name\":\"position\",\"kind\":\"Any\",\"default\":\"right-top\"},{\"name\":\"offsetx\",\"kind\":\"Any\",\"default\":null},{\"name\":\"offsety\",\"kind\":\"Any\",\"default\":null},{\"name\":\"theme\",\"kind\":\"Any\",\"default\":\"primary\"},{\"name\":\"status\",\"kind\":\"Any\",\"default\":\"normalized\"}]},{\"type\":\"model\",\"name\":\"GridStack1\",\"properties\":[{\"name\":\"mode\",\"kind\":\"Any\",\"default\":\"warn\"},{\"name\":\"ncols\",\"kind\":\"Any\",\"default\":null},{\"name\":\"nrows\",\"kind\":\"Any\",\"default\":null},{\"name\":\"allow_resize\",\"kind\":\"Any\",\"default\":true},{\"name\":\"allow_drag\",\"kind\":\"Any\",\"default\":true},{\"name\":\"state\",\"kind\":\"Any\",\"default\":[]}]},{\"type\":\"model\",\"name\":\"drag1\",\"properties\":[{\"name\":\"slider_width\",\"kind\":\"Any\",\"default\":5},{\"name\":\"slider_color\",\"kind\":\"Any\",\"default\":\"black\"},{\"name\":\"value\",\"kind\":\"Any\",\"default\":50}]},{\"type\":\"model\",\"name\":\"click1\",\"properties\":[{\"name\":\"terminal_output\",\"kind\":\"Any\",\"default\":\"\"},{\"name\":\"debug_name\",\"kind\":\"Any\",\"default\":\"\"},{\"name\":\"clears\",\"kind\":\"Any\",\"default\":0}]},{\"type\":\"model\",\"name\":\"FastWrapper1\",\"properties\":[{\"name\":\"object\",\"kind\":\"Any\",\"default\":null},{\"name\":\"style\",\"kind\":\"Any\",\"default\":null}]},{\"type\":\"model\",\"name\":\"NotificationAreaBase1\",\"properties\":[{\"name\":\"js_events\",\"kind\":\"Any\",\"default\":{\"type\":\"map\"}},{\"name\":\"position\",\"kind\":\"Any\",\"default\":\"bottom-right\"},{\"name\":\"_clear\",\"kind\":\"Any\",\"default\":0}]},{\"type\":\"model\",\"name\":\"NotificationArea1\",\"properties\":[{\"name\":\"js_events\",\"kind\":\"Any\",\"default\":{\"type\":\"map\"}},{\"name\":\"notifications\",\"kind\":\"Any\",\"default\":[]},{\"name\":\"position\",\"kind\":\"Any\",\"default\":\"bottom-right\"},{\"name\":\"_clear\",\"kind\":\"Any\",\"default\":0},{\"name\":\"types\",\"kind\":\"Any\",\"default\":[{\"type\":\"map\",\"entries\":[[\"type\",\"warning\"],[\"background\",\"#ffc107\"],[\"icon\",{\"type\":\"map\",\"entries\":[[\"className\",\"fas fa-exclamation-triangle\"],[\"tagName\",\"i\"],[\"color\",\"white\"]]}]]},{\"type\":\"map\",\"entries\":[[\"type\",\"info\"],[\"background\",\"#007bff\"],[\"icon\",{\"type\":\"map\",\"entries\":[[\"className\",\"fas fa-info-circle\"],[\"tagName\",\"i\"],[\"color\",\"white\"]]}]]}]}]},{\"type\":\"model\",\"name\":\"Notification\",\"properties\":[{\"name\":\"background\",\"kind\":\"Any\",\"default\":null},{\"name\":\"duration\",\"kind\":\"Any\",\"default\":3000},{\"name\":\"icon\",\"kind\":\"Any\",\"default\":null},{\"name\":\"message\",\"kind\":\"Any\",\"default\":\"\"},{\"name\":\"notification_type\",\"kind\":\"Any\",\"default\":null},{\"name\":\"_destroyed\",\"kind\":\"Any\",\"default\":false}]},{\"type\":\"model\",\"name\":\"TemplateActions1\",\"properties\":[{\"name\":\"open_modal\",\"kind\":\"Any\",\"default\":0},{\"name\":\"close_modal\",\"kind\":\"Any\",\"default\":0}]},{\"type\":\"model\",\"name\":\"BootstrapTemplateActions1\",\"properties\":[{\"name\":\"open_modal\",\"kind\":\"Any\",\"default\":0},{\"name\":\"close_modal\",\"kind\":\"Any\",\"default\":0}]},{\"type\":\"model\",\"name\":\"MaterialTemplateActions1\",\"properties\":[{\"name\":\"open_modal\",\"kind\":\"Any\",\"default\":0},{\"name\":\"close_modal\",\"kind\":\"Any\",\"default\":0}]}]}};\n",
       "  var render_items = [{\"docid\":\"c2d194f2-25e1-4ebd-9f07-745170b97db5\",\"roots\":{\"p1005\":\"baf58a7e-746d-4090-9160-14bce9006985\"},\"root_ids\":[\"p1005\"]}];\n",
       "  var docs = Object.values(docs_json)\n",
       "  if (!docs) {\n",
       "    return\n",
       "  }\n",
       "  const py_version = docs[0].version.replace('rc', '-rc.').replace('.dev', '-dev.')\n",
       "  const is_dev = py_version.indexOf(\"+\") !== -1 || py_version.indexOf(\"-\") !== -1\n",
       "  function embed_document(root) {\n",
       "    var Bokeh = get_bokeh(root)\n",
       "    Bokeh.embed.embed_items_notebook(docs_json, render_items);\n",
       "    for (const render_item of render_items) {\n",
       "      for (const root_id of render_item.root_ids) {\n",
       "\tconst id_el = document.getElementById(root_id)\n",
       "\tif (id_el.children.length && (id_el.children[0].className === 'bk-root')) {\n",
       "\t  const root_el = id_el.children[0]\n",
       "\t  root_el.id = root_el.id + '-rendered'\n",
       "\t}\n",
       "      }\n",
       "    }\n",
       "  }\n",
       "  function get_bokeh(root) {\n",
       "    if (root.Bokeh === undefined) {\n",
       "      return null\n",
       "    } else if (root.Bokeh.version !== py_version && !is_dev) {\n",
       "      if (root.Bokeh.versions === undefined || !root.Bokeh.versions.has(py_version)) {\n",
       "\treturn null\n",
       "      }\n",
       "      return root.Bokeh.versions.get(py_version);\n",
       "    } else if (root.Bokeh.version === py_version) {\n",
       "      return root.Bokeh\n",
       "    }\n",
       "    return null\n",
       "  }\n",
       "  function is_loaded(root) {\n",
       "    var Bokeh = get_bokeh(root)\n",
       "    return (Bokeh != null && Bokeh.Panel !== undefined)\n",
       "  }\n",
       "  if (is_loaded(root)) {\n",
       "    embed_document(root);\n",
       "  } else {\n",
       "    var attempts = 0;\n",
       "    var timer = setInterval(function(root) {\n",
       "      if (is_loaded(root)) {\n",
       "        clearInterval(timer);\n",
       "        embed_document(root);\n",
       "      } else if (document.readyState == \"complete\") {\n",
       "        attempts++;\n",
       "        if (attempts > 200) {\n",
       "          clearInterval(timer);\n",
       "\t  var Bokeh = get_bokeh(root)\n",
       "\t  if (Bokeh == null || Bokeh.Panel == null) {\n",
       "            console.warn(\"Panel: ERROR: Unable to run Panel code because Bokeh or Panel library is missing\");\n",
       "\t  } else {\n",
       "\t    console.warn(\"Panel: WARNING: Attempting to render but not all required libraries could be resolved.\")\n",
       "\t    embed_document(root)\n",
       "\t  }\n",
       "        }\n",
       "      }\n",
       "    }, 25, root)\n",
       "  }\n",
       "})(window);</script>"
      ],
      "text/plain": [
       ":Overlay\n",
       "   .Tiles.I  :Tiles   [x,y]\n",
       "   .Points.I :Points   [Lng,Lat]   (City,Humidity)"
      ]
     },
     "execution_count": 3,
     "metadata": {
      "application/vnd.holoviews_exec.v0+json": {
       "id": "p1005"
      }
     },
     "output_type": "execute_result"
    }
   ],
   "source": [
    "%%capture --no-display\n",
    "\n",
    "# Configure the map plot\n",
    "map_plot = city_data_df.hvplot.points(\n",
    "    x='Lng',\n",
    "    y='Lat',\n",
    "    geo=True,\n",
    "    tiles='CartoLight',\n",
    "    color='City',\n",
    "    cmap='Category10',\n",
    "    size='Humidity',\n",
    "    title='City Map',\n",
    "    legend='top_right',\n",
    "    frame_width=800,\n",
    "    frame_height=500\n",
    ")\n",
    "\n",
    "# Display the map\n",
    "map_plot"
   ]
  },
  {
   "cell_type": "markdown",
   "metadata": {},
   "source": [
    "### Step 2: Narrow down the `city_data_df` DataFrame to find your ideal weather condition"
   ]
  },
  {
   "cell_type": "code",
   "execution_count": 4,
   "metadata": {},
   "outputs": [
    {
     "data": {
      "text/html": [
       "<div>\n",
       "<style scoped>\n",
       "    .dataframe tbody tr th:only-of-type {\n",
       "        vertical-align: middle;\n",
       "    }\n",
       "\n",
       "    .dataframe tbody tr th {\n",
       "        vertical-align: top;\n",
       "    }\n",
       "\n",
       "    .dataframe thead th {\n",
       "        text-align: right;\n",
       "    }\n",
       "</style>\n",
       "<table border=\"1\" class=\"dataframe\">\n",
       "  <thead>\n",
       "    <tr style=\"text-align: right;\">\n",
       "      <th></th>\n",
       "      <th>City_ID</th>\n",
       "      <th>City</th>\n",
       "      <th>Lat</th>\n",
       "      <th>Lng</th>\n",
       "      <th>Max Temp (K)</th>\n",
       "      <th>Humidity</th>\n",
       "      <th>Cloudiness</th>\n",
       "      <th>Wind Speed</th>\n",
       "      <th>Country</th>\n",
       "      <th>Date</th>\n",
       "    </tr>\n",
       "  </thead>\n",
       "  <tbody>\n",
       "    <tr>\n",
       "      <th>127</th>\n",
       "      <td>127</td>\n",
       "      <td>Aral</td>\n",
       "      <td>40.5156</td>\n",
       "      <td>81.2636</td>\n",
       "      <td>272.21</td>\n",
       "      <td>44</td>\n",
       "      <td>100</td>\n",
       "      <td>1.55</td>\n",
       "      <td>CN</td>\n",
       "      <td>1706672793</td>\n",
       "    </tr>\n",
       "    <tr>\n",
       "      <th>145</th>\n",
       "      <td>145</td>\n",
       "      <td>Ouarzazate</td>\n",
       "      <td>30.9189</td>\n",
       "      <td>-6.8934</td>\n",
       "      <td>279.31</td>\n",
       "      <td>26</td>\n",
       "      <td>0</td>\n",
       "      <td>1.54</td>\n",
       "      <td>MA</td>\n",
       "      <td>1706672801</td>\n",
       "    </tr>\n",
       "    <tr>\n",
       "      <th>307</th>\n",
       "      <td>307</td>\n",
       "      <td>Ixtlahuacán del Río</td>\n",
       "      <td>20.8667</td>\n",
       "      <td>-103.2500</td>\n",
       "      <td>287.07</td>\n",
       "      <td>31</td>\n",
       "      <td>100</td>\n",
       "      <td>0.76</td>\n",
       "      <td>MX</td>\n",
       "      <td>1706672876</td>\n",
       "    </tr>\n",
       "    <tr>\n",
       "      <th>340</th>\n",
       "      <td>340</td>\n",
       "      <td>Saint Paul Harbor</td>\n",
       "      <td>57.7900</td>\n",
       "      <td>-152.4072</td>\n",
       "      <td>261.88</td>\n",
       "      <td>48</td>\n",
       "      <td>0</td>\n",
       "      <td>0.00</td>\n",
       "      <td>US</td>\n",
       "      <td>1706672892</td>\n",
       "    </tr>\n",
       "    <tr>\n",
       "      <th>373</th>\n",
       "      <td>373</td>\n",
       "      <td>Florence</td>\n",
       "      <td>43.7667</td>\n",
       "      <td>11.2500</td>\n",
       "      <td>280.98</td>\n",
       "      <td>45</td>\n",
       "      <td>98</td>\n",
       "      <td>0.67</td>\n",
       "      <td>IT</td>\n",
       "      <td>1706672906</td>\n",
       "    </tr>\n",
       "    <tr>\n",
       "      <th>463</th>\n",
       "      <td>463</td>\n",
       "      <td>Midland</td>\n",
       "      <td>31.9974</td>\n",
       "      <td>-102.0779</td>\n",
       "      <td>287.39</td>\n",
       "      <td>46</td>\n",
       "      <td>0</td>\n",
       "      <td>1.54</td>\n",
       "      <td>US</td>\n",
       "      <td>1706672827</td>\n",
       "    </tr>\n",
       "    <tr>\n",
       "      <th>502</th>\n",
       "      <td>502</td>\n",
       "      <td>Loreto</td>\n",
       "      <td>22.2667</td>\n",
       "      <td>-101.9667</td>\n",
       "      <td>288.35</td>\n",
       "      <td>43</td>\n",
       "      <td>100</td>\n",
       "      <td>0.19</td>\n",
       "      <td>MX</td>\n",
       "      <td>1706672971</td>\n",
       "    </tr>\n",
       "  </tbody>\n",
       "</table>\n",
       "</div>"
      ],
      "text/plain": [
       "     City_ID                 City      Lat       Lng  Max Temp (K)  Humidity  \\\n",
       "127      127                 Aral  40.5156   81.2636        272.21        44   \n",
       "145      145           Ouarzazate  30.9189   -6.8934        279.31        26   \n",
       "307      307  Ixtlahuacán del Río  20.8667 -103.2500        287.07        31   \n",
       "340      340    Saint Paul Harbor  57.7900 -152.4072        261.88        48   \n",
       "373      373             Florence  43.7667   11.2500        280.98        45   \n",
       "463      463              Midland  31.9974 -102.0779        287.39        46   \n",
       "502      502               Loreto  22.2667 -101.9667        288.35        43   \n",
       "\n",
       "     Cloudiness  Wind Speed Country        Date  \n",
       "127         100        1.55      CN  1706672793  \n",
       "145           0        1.54      MA  1706672801  \n",
       "307         100        0.76      MX  1706672876  \n",
       "340           0        0.00      US  1706672892  \n",
       "373          98        0.67      IT  1706672906  \n",
       "463           0        1.54      US  1706672827  \n",
       "502         100        0.19      MX  1706672971  "
      ]
     },
     "execution_count": 4,
     "metadata": {},
     "output_type": "execute_result"
    }
   ],
   "source": [
    "# Narrow down cities that fit criteria and drop any results with null values\n",
    "criteria_df = city_data_df[(city_data_df['Humidity'] < 50) & (city_data_df['Max Temp (K)'] < 288.70) & (city_data_df['Wind Speed'] < 2)]\n",
    "\n",
    "# Drop any rows with null values\n",
    "filtered_city_data_df = criteria_df.dropna()\n",
    "\n",
    "# Display sample data\n",
    "filtered_city_data_df"
   ]
  },
  {
   "cell_type": "markdown",
   "metadata": {},
   "source": [
    "### Step 3: Create a new DataFrame called `hotel_df`."
   ]
  },
  {
   "cell_type": "code",
   "execution_count": 5,
   "metadata": {},
   "outputs": [
    {
     "data": {
      "text/html": [
       "<div>\n",
       "<style scoped>\n",
       "    .dataframe tbody tr th:only-of-type {\n",
       "        vertical-align: middle;\n",
       "    }\n",
       "\n",
       "    .dataframe tbody tr th {\n",
       "        vertical-align: top;\n",
       "    }\n",
       "\n",
       "    .dataframe thead th {\n",
       "        text-align: right;\n",
       "    }\n",
       "</style>\n",
       "<table border=\"1\" class=\"dataframe\">\n",
       "  <thead>\n",
       "    <tr style=\"text-align: right;\">\n",
       "      <th></th>\n",
       "      <th>City</th>\n",
       "      <th>Country</th>\n",
       "      <th>Lat</th>\n",
       "      <th>Lng</th>\n",
       "      <th>Humidity</th>\n",
       "      <th>Hotel Name</th>\n",
       "    </tr>\n",
       "  </thead>\n",
       "  <tbody>\n",
       "    <tr>\n",
       "      <th>127</th>\n",
       "      <td>Aral</td>\n",
       "      <td>CN</td>\n",
       "      <td>40.5156</td>\n",
       "      <td>81.2636</td>\n",
       "      <td>44</td>\n",
       "      <td></td>\n",
       "    </tr>\n",
       "    <tr>\n",
       "      <th>145</th>\n",
       "      <td>Ouarzazate</td>\n",
       "      <td>MA</td>\n",
       "      <td>30.9189</td>\n",
       "      <td>-6.8934</td>\n",
       "      <td>26</td>\n",
       "      <td></td>\n",
       "    </tr>\n",
       "    <tr>\n",
       "      <th>307</th>\n",
       "      <td>Ixtlahuacán del Río</td>\n",
       "      <td>MX</td>\n",
       "      <td>20.8667</td>\n",
       "      <td>-103.2500</td>\n",
       "      <td>31</td>\n",
       "      <td></td>\n",
       "    </tr>\n",
       "    <tr>\n",
       "      <th>340</th>\n",
       "      <td>Saint Paul Harbor</td>\n",
       "      <td>US</td>\n",
       "      <td>57.7900</td>\n",
       "      <td>-152.4072</td>\n",
       "      <td>48</td>\n",
       "      <td></td>\n",
       "    </tr>\n",
       "    <tr>\n",
       "      <th>373</th>\n",
       "      <td>Florence</td>\n",
       "      <td>IT</td>\n",
       "      <td>43.7667</td>\n",
       "      <td>11.2500</td>\n",
       "      <td>45</td>\n",
       "      <td></td>\n",
       "    </tr>\n",
       "    <tr>\n",
       "      <th>463</th>\n",
       "      <td>Midland</td>\n",
       "      <td>US</td>\n",
       "      <td>31.9974</td>\n",
       "      <td>-102.0779</td>\n",
       "      <td>46</td>\n",
       "      <td></td>\n",
       "    </tr>\n",
       "    <tr>\n",
       "      <th>502</th>\n",
       "      <td>Loreto</td>\n",
       "      <td>MX</td>\n",
       "      <td>22.2667</td>\n",
       "      <td>-101.9667</td>\n",
       "      <td>43</td>\n",
       "      <td></td>\n",
       "    </tr>\n",
       "  </tbody>\n",
       "</table>\n",
       "</div>"
      ],
      "text/plain": [
       "                    City Country      Lat       Lng  Humidity Hotel Name\n",
       "127                 Aral      CN  40.5156   81.2636        44           \n",
       "145           Ouarzazate      MA  30.9189   -6.8934        26           \n",
       "307  Ixtlahuacán del Río      MX  20.8667 -103.2500        31           \n",
       "340    Saint Paul Harbor      US  57.7900 -152.4072        48           \n",
       "373             Florence      IT  43.7667   11.2500        45           \n",
       "463              Midland      US  31.9974 -102.0779        46           \n",
       "502               Loreto      MX  22.2667 -101.9667        43           "
      ]
     },
     "execution_count": 5,
     "metadata": {},
     "output_type": "execute_result"
    }
   ],
   "source": [
    "# Use the Pandas copy function to create DataFrame called hotel_df to store the city, country, coordinates, and humidity\n",
    "hotel_df = filtered_city_data_df[['City', 'Country', 'Lat', 'Lng', 'Humidity']].copy()\n",
    "\n",
    "# Add an empty column, \"Hotel Name,\" to the DataFrame\n",
    "hotel_df['Hotel Name'] = ''\n",
    "\n",
    "# Display sample data\n",
    "hotel_df"
   ]
  },
  {
   "cell_type": "markdown",
   "metadata": {},
   "source": [
    "### Step 4: For each city, use the Geoapify API to find the first hotel located within 10,000 metres of your coordinates."
   ]
  },
  {
   "cell_type": "code",
   "execution_count": 6,
   "metadata": {},
   "outputs": [
    {
     "name": "stdout",
     "output_type": "stream",
     "text": [
      "Starting hotel search\n",
      "Aral - nearest hotel: No hotel found\n",
      "Ouarzazate - nearest hotel: Fint\n",
      "Ixtlahuacán del Río - nearest hotel: Hotel Ramirez\n",
      "Saint Paul Harbor - nearest hotel: Shelikof Lodge\n",
      "Florence - nearest hotel: Old bridge Apartment\n",
      "Midland - nearest hotel: DoubleTree by Hilton Hotel Midland Plaza\n",
      "Loreto - nearest hotel: No hotel found\n"
     ]
    },
    {
     "data": {
      "text/html": [
       "<div>\n",
       "<style scoped>\n",
       "    .dataframe tbody tr th:only-of-type {\n",
       "        vertical-align: middle;\n",
       "    }\n",
       "\n",
       "    .dataframe tbody tr th {\n",
       "        vertical-align: top;\n",
       "    }\n",
       "\n",
       "    .dataframe thead th {\n",
       "        text-align: right;\n",
       "    }\n",
       "</style>\n",
       "<table border=\"1\" class=\"dataframe\">\n",
       "  <thead>\n",
       "    <tr style=\"text-align: right;\">\n",
       "      <th></th>\n",
       "      <th>City</th>\n",
       "      <th>Country</th>\n",
       "      <th>Lat</th>\n",
       "      <th>Lng</th>\n",
       "      <th>Humidity</th>\n",
       "      <th>Hotel Name</th>\n",
       "    </tr>\n",
       "  </thead>\n",
       "  <tbody>\n",
       "    <tr>\n",
       "      <th>127</th>\n",
       "      <td>Aral</td>\n",
       "      <td>CN</td>\n",
       "      <td>40.5156</td>\n",
       "      <td>81.2636</td>\n",
       "      <td>44</td>\n",
       "      <td>No hotel found</td>\n",
       "    </tr>\n",
       "    <tr>\n",
       "      <th>145</th>\n",
       "      <td>Ouarzazate</td>\n",
       "      <td>MA</td>\n",
       "      <td>30.9189</td>\n",
       "      <td>-6.8934</td>\n",
       "      <td>26</td>\n",
       "      <td>Fint</td>\n",
       "    </tr>\n",
       "    <tr>\n",
       "      <th>307</th>\n",
       "      <td>Ixtlahuacán del Río</td>\n",
       "      <td>MX</td>\n",
       "      <td>20.8667</td>\n",
       "      <td>-103.2500</td>\n",
       "      <td>31</td>\n",
       "      <td>Hotel Ramirez</td>\n",
       "    </tr>\n",
       "    <tr>\n",
       "      <th>340</th>\n",
       "      <td>Saint Paul Harbor</td>\n",
       "      <td>US</td>\n",
       "      <td>57.7900</td>\n",
       "      <td>-152.4072</td>\n",
       "      <td>48</td>\n",
       "      <td>Shelikof Lodge</td>\n",
       "    </tr>\n",
       "    <tr>\n",
       "      <th>373</th>\n",
       "      <td>Florence</td>\n",
       "      <td>IT</td>\n",
       "      <td>43.7667</td>\n",
       "      <td>11.2500</td>\n",
       "      <td>45</td>\n",
       "      <td>Old bridge Apartment</td>\n",
       "    </tr>\n",
       "    <tr>\n",
       "      <th>463</th>\n",
       "      <td>Midland</td>\n",
       "      <td>US</td>\n",
       "      <td>31.9974</td>\n",
       "      <td>-102.0779</td>\n",
       "      <td>46</td>\n",
       "      <td>DoubleTree by Hilton Hotel Midland Plaza</td>\n",
       "    </tr>\n",
       "    <tr>\n",
       "      <th>502</th>\n",
       "      <td>Loreto</td>\n",
       "      <td>MX</td>\n",
       "      <td>22.2667</td>\n",
       "      <td>-101.9667</td>\n",
       "      <td>43</td>\n",
       "      <td>No hotel found</td>\n",
       "    </tr>\n",
       "  </tbody>\n",
       "</table>\n",
       "</div>"
      ],
      "text/plain": [
       "                    City Country      Lat       Lng  Humidity  \\\n",
       "127                 Aral      CN  40.5156   81.2636        44   \n",
       "145           Ouarzazate      MA  30.9189   -6.8934        26   \n",
       "307  Ixtlahuacán del Río      MX  20.8667 -103.2500        31   \n",
       "340    Saint Paul Harbor      US  57.7900 -152.4072        48   \n",
       "373             Florence      IT  43.7667   11.2500        45   \n",
       "463              Midland      US  31.9974 -102.0779        46   \n",
       "502               Loreto      MX  22.2667 -101.9667        43   \n",
       "\n",
       "                                   Hotel Name  \n",
       "127                            No hotel found  \n",
       "145                                      Fint  \n",
       "307                             Hotel Ramirez  \n",
       "340                            Shelikof Lodge  \n",
       "373                      Old bridge Apartment  \n",
       "463  DoubleTree by Hilton Hotel Midland Plaza  \n",
       "502                            No hotel found  "
      ]
     },
     "execution_count": 6,
     "metadata": {},
     "output_type": "execute_result"
    }
   ],
   "source": [
    "# Set parameters to search for a hotel\n",
    "radius = 10000\n",
    "params = {\n",
    "    \"categories\": \"accommodation.hotel\",\n",
    "    \"apiKey\": geoapify_key, \n",
    "    \"radius\": radius,\n",
    "}\n",
    "\n",
    "# Print a message to follow up the hotel search\n",
    "print(\"Starting hotel search\")\n",
    "\n",
    "# Iterate through the hotel_df DataFrame\n",
    "for index, row in hotel_df.iterrows():\n",
    "    latitude = row['Lat']\n",
    "    longitude = row[\"Lng\"]\n",
    "    \n",
    "    # Add filter and bias parameters with the current city's latitude and longitude to the params dictionary\n",
    "    params[\"filter\"] = f\"circle:{longitude},{latitude},{radius}\"\n",
    "    params[\"bias\"] = f\"proximity:{longitude},{latitude}\"\n",
    "    \n",
    "    # Set base URL\n",
    "    base_url = \"https://api.geoapify.com/v2/places\"\n",
    "\n",
    "\n",
    "    # Make and API request using the params dictionaty\n",
    "    response = requests.get(base_url, params=params)\n",
    "    \n",
    "    # Convert the API response to JSON format\n",
    "    name_address = response.json()\n",
    "    \n",
    "    # Grab the first hotel from the results and store the name in the hotel_df DataFrame\n",
    "    try:\n",
    "        hotel_df.loc[index, \"Hotel Name\"] = name_address[\"features\"][0][\"properties\"][\"name\"]\n",
    "    except (KeyError, IndexError):\n",
    "        # If no hotel is found, set the hotel name as \"No hotel found\".\n",
    "        hotel_df.loc[index, \"Hotel Name\"] = \"No hotel found\"\n",
    "        \n",
    "    # Log the search results\n",
    "    print(f\"{hotel_df.loc[index, 'City']} - nearest hotel: {hotel_df.loc[index, 'Hotel Name']}\")\n",
    "\n",
    "# Display sample data\n",
    "hotel_df"
   ]
  },
  {
   "cell_type": "markdown",
   "metadata": {},
   "source": [
    "### Step 5: Add the hotel name and the country as additional information in the hover message for each city in the map."
   ]
  },
  {
   "cell_type": "code",
   "execution_count": 10,
   "metadata": {},
   "outputs": [
    {
     "data": {
      "application/vnd.plotly.v1+json": {
       "config": {
        "plotlyServerURL": "https://plot.ly"
       },
       "data": [
        {
         "customdata": [
          [
           "No hotel found",
           "CN"
          ],
          [
           "Fint",
           "MA"
          ],
          [
           "Hotel Ramirez",
           "MX"
          ],
          [
           "Shelikof Lodge",
           "US"
          ],
          [
           "Old bridge Apartment",
           "IT"
          ],
          [
           "DoubleTree by Hilton Hotel Midland Plaza",
           "US"
          ],
          [
           "No hotel found",
           "MX"
          ]
         ],
         "hovertemplate": "<b>%{hovertext}</b><br><br>Lat=%{lat}<br>Lng=%{lon}<br>Hotel Name=%{customdata[0]}<br>Country=%{customdata[1]}<extra></extra>",
         "hovertext": [
          "Aral",
          "Ouarzazate",
          "Ixtlahuacán del Río",
          "Saint Paul Harbor",
          "Florence",
          "Midland",
          "Loreto"
         ],
         "lat": [
          40.5156,
          30.9189,
          20.8667,
          57.79,
          43.7667,
          31.9974,
          22.2667
         ],
         "legendgroup": "",
         "lon": [
          81.2636,
          -6.8934,
          -103.25,
          -152.4072,
          11.25,
          -102.0779,
          -101.9667
         ],
         "marker": {
          "color": "#636efa"
         },
         "mode": "markers",
         "name": "",
         "showlegend": false,
         "subplot": "mapbox",
         "type": "scattermapbox"
        }
       ],
       "layout": {
        "legend": {
         "tracegroupgap": 0
        },
        "mapbox": {
         "center": {
          "lat": 35.44599999999999,
          "lon": -53.44022857142857
         },
         "domain": {
          "x": [
           0,
           1
          ],
          "y": [
           0,
           1
          ]
         },
         "style": "open-street-map",
         "zoom": 0
        },
        "template": {
         "data": {
          "bar": [
           {
            "error_x": {
             "color": "#2a3f5f"
            },
            "error_y": {
             "color": "#2a3f5f"
            },
            "marker": {
             "line": {
              "color": "#E5ECF6",
              "width": 0.5
             },
             "pattern": {
              "fillmode": "overlay",
              "size": 10,
              "solidity": 0.2
             }
            },
            "type": "bar"
           }
          ],
          "barpolar": [
           {
            "marker": {
             "line": {
              "color": "#E5ECF6",
              "width": 0.5
             },
             "pattern": {
              "fillmode": "overlay",
              "size": 10,
              "solidity": 0.2
             }
            },
            "type": "barpolar"
           }
          ],
          "carpet": [
           {
            "aaxis": {
             "endlinecolor": "#2a3f5f",
             "gridcolor": "white",
             "linecolor": "white",
             "minorgridcolor": "white",
             "startlinecolor": "#2a3f5f"
            },
            "baxis": {
             "endlinecolor": "#2a3f5f",
             "gridcolor": "white",
             "linecolor": "white",
             "minorgridcolor": "white",
             "startlinecolor": "#2a3f5f"
            },
            "type": "carpet"
           }
          ],
          "choropleth": [
           {
            "colorbar": {
             "outlinewidth": 0,
             "ticks": ""
            },
            "type": "choropleth"
           }
          ],
          "contour": [
           {
            "colorbar": {
             "outlinewidth": 0,
             "ticks": ""
            },
            "colorscale": [
             [
              0,
              "#0d0887"
             ],
             [
              0.1111111111111111,
              "#46039f"
             ],
             [
              0.2222222222222222,
              "#7201a8"
             ],
             [
              0.3333333333333333,
              "#9c179e"
             ],
             [
              0.4444444444444444,
              "#bd3786"
             ],
             [
              0.5555555555555556,
              "#d8576b"
             ],
             [
              0.6666666666666666,
              "#ed7953"
             ],
             [
              0.7777777777777778,
              "#fb9f3a"
             ],
             [
              0.8888888888888888,
              "#fdca26"
             ],
             [
              1,
              "#f0f921"
             ]
            ],
            "type": "contour"
           }
          ],
          "contourcarpet": [
           {
            "colorbar": {
             "outlinewidth": 0,
             "ticks": ""
            },
            "type": "contourcarpet"
           }
          ],
          "heatmap": [
           {
            "colorbar": {
             "outlinewidth": 0,
             "ticks": ""
            },
            "colorscale": [
             [
              0,
              "#0d0887"
             ],
             [
              0.1111111111111111,
              "#46039f"
             ],
             [
              0.2222222222222222,
              "#7201a8"
             ],
             [
              0.3333333333333333,
              "#9c179e"
             ],
             [
              0.4444444444444444,
              "#bd3786"
             ],
             [
              0.5555555555555556,
              "#d8576b"
             ],
             [
              0.6666666666666666,
              "#ed7953"
             ],
             [
              0.7777777777777778,
              "#fb9f3a"
             ],
             [
              0.8888888888888888,
              "#fdca26"
             ],
             [
              1,
              "#f0f921"
             ]
            ],
            "type": "heatmap"
           }
          ],
          "heatmapgl": [
           {
            "colorbar": {
             "outlinewidth": 0,
             "ticks": ""
            },
            "colorscale": [
             [
              0,
              "#0d0887"
             ],
             [
              0.1111111111111111,
              "#46039f"
             ],
             [
              0.2222222222222222,
              "#7201a8"
             ],
             [
              0.3333333333333333,
              "#9c179e"
             ],
             [
              0.4444444444444444,
              "#bd3786"
             ],
             [
              0.5555555555555556,
              "#d8576b"
             ],
             [
              0.6666666666666666,
              "#ed7953"
             ],
             [
              0.7777777777777778,
              "#fb9f3a"
             ],
             [
              0.8888888888888888,
              "#fdca26"
             ],
             [
              1,
              "#f0f921"
             ]
            ],
            "type": "heatmapgl"
           }
          ],
          "histogram": [
           {
            "marker": {
             "pattern": {
              "fillmode": "overlay",
              "size": 10,
              "solidity": 0.2
             }
            },
            "type": "histogram"
           }
          ],
          "histogram2d": [
           {
            "colorbar": {
             "outlinewidth": 0,
             "ticks": ""
            },
            "colorscale": [
             [
              0,
              "#0d0887"
             ],
             [
              0.1111111111111111,
              "#46039f"
             ],
             [
              0.2222222222222222,
              "#7201a8"
             ],
             [
              0.3333333333333333,
              "#9c179e"
             ],
             [
              0.4444444444444444,
              "#bd3786"
             ],
             [
              0.5555555555555556,
              "#d8576b"
             ],
             [
              0.6666666666666666,
              "#ed7953"
             ],
             [
              0.7777777777777778,
              "#fb9f3a"
             ],
             [
              0.8888888888888888,
              "#fdca26"
             ],
             [
              1,
              "#f0f921"
             ]
            ],
            "type": "histogram2d"
           }
          ],
          "histogram2dcontour": [
           {
            "colorbar": {
             "outlinewidth": 0,
             "ticks": ""
            },
            "colorscale": [
             [
              0,
              "#0d0887"
             ],
             [
              0.1111111111111111,
              "#46039f"
             ],
             [
              0.2222222222222222,
              "#7201a8"
             ],
             [
              0.3333333333333333,
              "#9c179e"
             ],
             [
              0.4444444444444444,
              "#bd3786"
             ],
             [
              0.5555555555555556,
              "#d8576b"
             ],
             [
              0.6666666666666666,
              "#ed7953"
             ],
             [
              0.7777777777777778,
              "#fb9f3a"
             ],
             [
              0.8888888888888888,
              "#fdca26"
             ],
             [
              1,
              "#f0f921"
             ]
            ],
            "type": "histogram2dcontour"
           }
          ],
          "mesh3d": [
           {
            "colorbar": {
             "outlinewidth": 0,
             "ticks": ""
            },
            "type": "mesh3d"
           }
          ],
          "parcoords": [
           {
            "line": {
             "colorbar": {
              "outlinewidth": 0,
              "ticks": ""
             }
            },
            "type": "parcoords"
           }
          ],
          "pie": [
           {
            "automargin": true,
            "type": "pie"
           }
          ],
          "scatter": [
           {
            "fillpattern": {
             "fillmode": "overlay",
             "size": 10,
             "solidity": 0.2
            },
            "type": "scatter"
           }
          ],
          "scatter3d": [
           {
            "line": {
             "colorbar": {
              "outlinewidth": 0,
              "ticks": ""
             }
            },
            "marker": {
             "colorbar": {
              "outlinewidth": 0,
              "ticks": ""
             }
            },
            "type": "scatter3d"
           }
          ],
          "scattercarpet": [
           {
            "marker": {
             "colorbar": {
              "outlinewidth": 0,
              "ticks": ""
             }
            },
            "type": "scattercarpet"
           }
          ],
          "scattergeo": [
           {
            "marker": {
             "colorbar": {
              "outlinewidth": 0,
              "ticks": ""
             }
            },
            "type": "scattergeo"
           }
          ],
          "scattergl": [
           {
            "marker": {
             "colorbar": {
              "outlinewidth": 0,
              "ticks": ""
             }
            },
            "type": "scattergl"
           }
          ],
          "scattermapbox": [
           {
            "marker": {
             "colorbar": {
              "outlinewidth": 0,
              "ticks": ""
             }
            },
            "type": "scattermapbox"
           }
          ],
          "scatterpolar": [
           {
            "marker": {
             "colorbar": {
              "outlinewidth": 0,
              "ticks": ""
             }
            },
            "type": "scatterpolar"
           }
          ],
          "scatterpolargl": [
           {
            "marker": {
             "colorbar": {
              "outlinewidth": 0,
              "ticks": ""
             }
            },
            "type": "scatterpolargl"
           }
          ],
          "scatterternary": [
           {
            "marker": {
             "colorbar": {
              "outlinewidth": 0,
              "ticks": ""
             }
            },
            "type": "scatterternary"
           }
          ],
          "surface": [
           {
            "colorbar": {
             "outlinewidth": 0,
             "ticks": ""
            },
            "colorscale": [
             [
              0,
              "#0d0887"
             ],
             [
              0.1111111111111111,
              "#46039f"
             ],
             [
              0.2222222222222222,
              "#7201a8"
             ],
             [
              0.3333333333333333,
              "#9c179e"
             ],
             [
              0.4444444444444444,
              "#bd3786"
             ],
             [
              0.5555555555555556,
              "#d8576b"
             ],
             [
              0.6666666666666666,
              "#ed7953"
             ],
             [
              0.7777777777777778,
              "#fb9f3a"
             ],
             [
              0.8888888888888888,
              "#fdca26"
             ],
             [
              1,
              "#f0f921"
             ]
            ],
            "type": "surface"
           }
          ],
          "table": [
           {
            "cells": {
             "fill": {
              "color": "#EBF0F8"
             },
             "line": {
              "color": "white"
             }
            },
            "header": {
             "fill": {
              "color": "#C8D4E3"
             },
             "line": {
              "color": "white"
             }
            },
            "type": "table"
           }
          ]
         },
         "layout": {
          "annotationdefaults": {
           "arrowcolor": "#2a3f5f",
           "arrowhead": 0,
           "arrowwidth": 1
          },
          "autotypenumbers": "strict",
          "coloraxis": {
           "colorbar": {
            "outlinewidth": 0,
            "ticks": ""
           }
          },
          "colorscale": {
           "diverging": [
            [
             0,
             "#8e0152"
            ],
            [
             0.1,
             "#c51b7d"
            ],
            [
             0.2,
             "#de77ae"
            ],
            [
             0.3,
             "#f1b6da"
            ],
            [
             0.4,
             "#fde0ef"
            ],
            [
             0.5,
             "#f7f7f7"
            ],
            [
             0.6,
             "#e6f5d0"
            ],
            [
             0.7,
             "#b8e186"
            ],
            [
             0.8,
             "#7fbc41"
            ],
            [
             0.9,
             "#4d9221"
            ],
            [
             1,
             "#276419"
            ]
           ],
           "sequential": [
            [
             0,
             "#0d0887"
            ],
            [
             0.1111111111111111,
             "#46039f"
            ],
            [
             0.2222222222222222,
             "#7201a8"
            ],
            [
             0.3333333333333333,
             "#9c179e"
            ],
            [
             0.4444444444444444,
             "#bd3786"
            ],
            [
             0.5555555555555556,
             "#d8576b"
            ],
            [
             0.6666666666666666,
             "#ed7953"
            ],
            [
             0.7777777777777778,
             "#fb9f3a"
            ],
            [
             0.8888888888888888,
             "#fdca26"
            ],
            [
             1,
             "#f0f921"
            ]
           ],
           "sequentialminus": [
            [
             0,
             "#0d0887"
            ],
            [
             0.1111111111111111,
             "#46039f"
            ],
            [
             0.2222222222222222,
             "#7201a8"
            ],
            [
             0.3333333333333333,
             "#9c179e"
            ],
            [
             0.4444444444444444,
             "#bd3786"
            ],
            [
             0.5555555555555556,
             "#d8576b"
            ],
            [
             0.6666666666666666,
             "#ed7953"
            ],
            [
             0.7777777777777778,
             "#fb9f3a"
            ],
            [
             0.8888888888888888,
             "#fdca26"
            ],
            [
             1,
             "#f0f921"
            ]
           ]
          },
          "colorway": [
           "#636efa",
           "#EF553B",
           "#00cc96",
           "#ab63fa",
           "#FFA15A",
           "#19d3f3",
           "#FF6692",
           "#B6E880",
           "#FF97FF",
           "#FECB52"
          ],
          "font": {
           "color": "#2a3f5f"
          },
          "geo": {
           "bgcolor": "white",
           "lakecolor": "white",
           "landcolor": "#E5ECF6",
           "showlakes": true,
           "showland": true,
           "subunitcolor": "white"
          },
          "hoverlabel": {
           "align": "left"
          },
          "hovermode": "closest",
          "mapbox": {
           "style": "light"
          },
          "paper_bgcolor": "white",
          "plot_bgcolor": "#E5ECF6",
          "polar": {
           "angularaxis": {
            "gridcolor": "white",
            "linecolor": "white",
            "ticks": ""
           },
           "bgcolor": "#E5ECF6",
           "radialaxis": {
            "gridcolor": "white",
            "linecolor": "white",
            "ticks": ""
           }
          },
          "scene": {
           "xaxis": {
            "backgroundcolor": "#E5ECF6",
            "gridcolor": "white",
            "gridwidth": 2,
            "linecolor": "white",
            "showbackground": true,
            "ticks": "",
            "zerolinecolor": "white"
           },
           "yaxis": {
            "backgroundcolor": "#E5ECF6",
            "gridcolor": "white",
            "gridwidth": 2,
            "linecolor": "white",
            "showbackground": true,
            "ticks": "",
            "zerolinecolor": "white"
           },
           "zaxis": {
            "backgroundcolor": "#E5ECF6",
            "gridcolor": "white",
            "gridwidth": 2,
            "linecolor": "white",
            "showbackground": true,
            "ticks": "",
            "zerolinecolor": "white"
           }
          },
          "shapedefaults": {
           "line": {
            "color": "#2a3f5f"
           }
          },
          "ternary": {
           "aaxis": {
            "gridcolor": "white",
            "linecolor": "white",
            "ticks": ""
           },
           "baxis": {
            "gridcolor": "white",
            "linecolor": "white",
            "ticks": ""
           },
           "bgcolor": "#E5ECF6",
           "caxis": {
            "gridcolor": "white",
            "linecolor": "white",
            "ticks": ""
           }
          },
          "title": {
           "x": 0.05
          },
          "xaxis": {
           "automargin": true,
           "gridcolor": "white",
           "linecolor": "white",
           "ticks": "",
           "title": {
            "standoff": 15
           },
           "zerolinecolor": "white",
           "zerolinewidth": 2
          },
          "yaxis": {
           "automargin": true,
           "gridcolor": "white",
           "linecolor": "white",
           "ticks": "",
           "title": {
            "standoff": 15
           },
           "zerolinecolor": "white",
           "zerolinewidth": 2
          }
         }
        },
        "title": {
         "text": "Map with dots for hotels"
        }
       }
      },
      "text/html": [
       "<div>                            <div id=\"f12f77ca-13c4-4716-8c40-4aa4c49c2915\" class=\"plotly-graph-div\" style=\"height:525px; width:100%;\"></div>            <script type=\"text/javascript\">                require([\"plotly\"], function(Plotly) {                    window.PLOTLYENV=window.PLOTLYENV || {};                                    if (document.getElementById(\"f12f77ca-13c4-4716-8c40-4aa4c49c2915\")) {                    Plotly.newPlot(                        \"f12f77ca-13c4-4716-8c40-4aa4c49c2915\",                        [{\"customdata\":[[\"No hotel found\",\"CN\"],[\"Fint\",\"MA\"],[\"Hotel Ramirez\",\"MX\"],[\"Shelikof Lodge\",\"US\"],[\"Old bridge Apartment\",\"IT\"],[\"DoubleTree by Hilton Hotel Midland Plaza\",\"US\"],[\"No hotel found\",\"MX\"]],\"hovertemplate\":\"<b>%{hovertext}</b><br><br>Lat=%{lat}<br>Lng=%{lon}<br>Hotel Name=%{customdata[0]}<br>Country=%{customdata[1]}<extra></extra>\",\"hovertext\":[\"Aral\",\"Ouarzazate\",\"Ixtlahuac\\u00e1n del R\\u00edo\",\"Saint Paul Harbor\",\"Florence\",\"Midland\",\"Loreto\"],\"lat\":[40.5156,30.9189,20.8667,57.79,43.7667,31.9974,22.2667],\"legendgroup\":\"\",\"lon\":[81.2636,-6.8934,-103.25,-152.4072,11.25,-102.0779,-101.9667],\"marker\":{\"color\":\"#636efa\"},\"mode\":\"markers\",\"name\":\"\",\"showlegend\":false,\"subplot\":\"mapbox\",\"type\":\"scattermapbox\"}],                        {\"template\":{\"data\":{\"histogram2dcontour\":[{\"type\":\"histogram2dcontour\",\"colorbar\":{\"outlinewidth\":0,\"ticks\":\"\"},\"colorscale\":[[0.0,\"#0d0887\"],[0.1111111111111111,\"#46039f\"],[0.2222222222222222,\"#7201a8\"],[0.3333333333333333,\"#9c179e\"],[0.4444444444444444,\"#bd3786\"],[0.5555555555555556,\"#d8576b\"],[0.6666666666666666,\"#ed7953\"],[0.7777777777777778,\"#fb9f3a\"],[0.8888888888888888,\"#fdca26\"],[1.0,\"#f0f921\"]]}],\"choropleth\":[{\"type\":\"choropleth\",\"colorbar\":{\"outlinewidth\":0,\"ticks\":\"\"}}],\"histogram2d\":[{\"type\":\"histogram2d\",\"colorbar\":{\"outlinewidth\":0,\"ticks\":\"\"},\"colorscale\":[[0.0,\"#0d0887\"],[0.1111111111111111,\"#46039f\"],[0.2222222222222222,\"#7201a8\"],[0.3333333333333333,\"#9c179e\"],[0.4444444444444444,\"#bd3786\"],[0.5555555555555556,\"#d8576b\"],[0.6666666666666666,\"#ed7953\"],[0.7777777777777778,\"#fb9f3a\"],[0.8888888888888888,\"#fdca26\"],[1.0,\"#f0f921\"]]}],\"heatmap\":[{\"type\":\"heatmap\",\"colorbar\":{\"outlinewidth\":0,\"ticks\":\"\"},\"colorscale\":[[0.0,\"#0d0887\"],[0.1111111111111111,\"#46039f\"],[0.2222222222222222,\"#7201a8\"],[0.3333333333333333,\"#9c179e\"],[0.4444444444444444,\"#bd3786\"],[0.5555555555555556,\"#d8576b\"],[0.6666666666666666,\"#ed7953\"],[0.7777777777777778,\"#fb9f3a\"],[0.8888888888888888,\"#fdca26\"],[1.0,\"#f0f921\"]]}],\"heatmapgl\":[{\"type\":\"heatmapgl\",\"colorbar\":{\"outlinewidth\":0,\"ticks\":\"\"},\"colorscale\":[[0.0,\"#0d0887\"],[0.1111111111111111,\"#46039f\"],[0.2222222222222222,\"#7201a8\"],[0.3333333333333333,\"#9c179e\"],[0.4444444444444444,\"#bd3786\"],[0.5555555555555556,\"#d8576b\"],[0.6666666666666666,\"#ed7953\"],[0.7777777777777778,\"#fb9f3a\"],[0.8888888888888888,\"#fdca26\"],[1.0,\"#f0f921\"]]}],\"contourcarpet\":[{\"type\":\"contourcarpet\",\"colorbar\":{\"outlinewidth\":0,\"ticks\":\"\"}}],\"contour\":[{\"type\":\"contour\",\"colorbar\":{\"outlinewidth\":0,\"ticks\":\"\"},\"colorscale\":[[0.0,\"#0d0887\"],[0.1111111111111111,\"#46039f\"],[0.2222222222222222,\"#7201a8\"],[0.3333333333333333,\"#9c179e\"],[0.4444444444444444,\"#bd3786\"],[0.5555555555555556,\"#d8576b\"],[0.6666666666666666,\"#ed7953\"],[0.7777777777777778,\"#fb9f3a\"],[0.8888888888888888,\"#fdca26\"],[1.0,\"#f0f921\"]]}],\"surface\":[{\"type\":\"surface\",\"colorbar\":{\"outlinewidth\":0,\"ticks\":\"\"},\"colorscale\":[[0.0,\"#0d0887\"],[0.1111111111111111,\"#46039f\"],[0.2222222222222222,\"#7201a8\"],[0.3333333333333333,\"#9c179e\"],[0.4444444444444444,\"#bd3786\"],[0.5555555555555556,\"#d8576b\"],[0.6666666666666666,\"#ed7953\"],[0.7777777777777778,\"#fb9f3a\"],[0.8888888888888888,\"#fdca26\"],[1.0,\"#f0f921\"]]}],\"mesh3d\":[{\"type\":\"mesh3d\",\"colorbar\":{\"outlinewidth\":0,\"ticks\":\"\"}}],\"scatter\":[{\"fillpattern\":{\"fillmode\":\"overlay\",\"size\":10,\"solidity\":0.2},\"type\":\"scatter\"}],\"parcoords\":[{\"type\":\"parcoords\",\"line\":{\"colorbar\":{\"outlinewidth\":0,\"ticks\":\"\"}}}],\"scatterpolargl\":[{\"type\":\"scatterpolargl\",\"marker\":{\"colorbar\":{\"outlinewidth\":0,\"ticks\":\"\"}}}],\"bar\":[{\"error_x\":{\"color\":\"#2a3f5f\"},\"error_y\":{\"color\":\"#2a3f5f\"},\"marker\":{\"line\":{\"color\":\"#E5ECF6\",\"width\":0.5},\"pattern\":{\"fillmode\":\"overlay\",\"size\":10,\"solidity\":0.2}},\"type\":\"bar\"}],\"scattergeo\":[{\"type\":\"scattergeo\",\"marker\":{\"colorbar\":{\"outlinewidth\":0,\"ticks\":\"\"}}}],\"scatterpolar\":[{\"type\":\"scatterpolar\",\"marker\":{\"colorbar\":{\"outlinewidth\":0,\"ticks\":\"\"}}}],\"histogram\":[{\"marker\":{\"pattern\":{\"fillmode\":\"overlay\",\"size\":10,\"solidity\":0.2}},\"type\":\"histogram\"}],\"scattergl\":[{\"type\":\"scattergl\",\"marker\":{\"colorbar\":{\"outlinewidth\":0,\"ticks\":\"\"}}}],\"scatter3d\":[{\"type\":\"scatter3d\",\"line\":{\"colorbar\":{\"outlinewidth\":0,\"ticks\":\"\"}},\"marker\":{\"colorbar\":{\"outlinewidth\":0,\"ticks\":\"\"}}}],\"scattermapbox\":[{\"type\":\"scattermapbox\",\"marker\":{\"colorbar\":{\"outlinewidth\":0,\"ticks\":\"\"}}}],\"scatterternary\":[{\"type\":\"scatterternary\",\"marker\":{\"colorbar\":{\"outlinewidth\":0,\"ticks\":\"\"}}}],\"scattercarpet\":[{\"type\":\"scattercarpet\",\"marker\":{\"colorbar\":{\"outlinewidth\":0,\"ticks\":\"\"}}}],\"carpet\":[{\"aaxis\":{\"endlinecolor\":\"#2a3f5f\",\"gridcolor\":\"white\",\"linecolor\":\"white\",\"minorgridcolor\":\"white\",\"startlinecolor\":\"#2a3f5f\"},\"baxis\":{\"endlinecolor\":\"#2a3f5f\",\"gridcolor\":\"white\",\"linecolor\":\"white\",\"minorgridcolor\":\"white\",\"startlinecolor\":\"#2a3f5f\"},\"type\":\"carpet\"}],\"table\":[{\"cells\":{\"fill\":{\"color\":\"#EBF0F8\"},\"line\":{\"color\":\"white\"}},\"header\":{\"fill\":{\"color\":\"#C8D4E3\"},\"line\":{\"color\":\"white\"}},\"type\":\"table\"}],\"barpolar\":[{\"marker\":{\"line\":{\"color\":\"#E5ECF6\",\"width\":0.5},\"pattern\":{\"fillmode\":\"overlay\",\"size\":10,\"solidity\":0.2}},\"type\":\"barpolar\"}],\"pie\":[{\"automargin\":true,\"type\":\"pie\"}]},\"layout\":{\"autotypenumbers\":\"strict\",\"colorway\":[\"#636efa\",\"#EF553B\",\"#00cc96\",\"#ab63fa\",\"#FFA15A\",\"#19d3f3\",\"#FF6692\",\"#B6E880\",\"#FF97FF\",\"#FECB52\"],\"font\":{\"color\":\"#2a3f5f\"},\"hovermode\":\"closest\",\"hoverlabel\":{\"align\":\"left\"},\"paper_bgcolor\":\"white\",\"plot_bgcolor\":\"#E5ECF6\",\"polar\":{\"bgcolor\":\"#E5ECF6\",\"angularaxis\":{\"gridcolor\":\"white\",\"linecolor\":\"white\",\"ticks\":\"\"},\"radialaxis\":{\"gridcolor\":\"white\",\"linecolor\":\"white\",\"ticks\":\"\"}},\"ternary\":{\"bgcolor\":\"#E5ECF6\",\"aaxis\":{\"gridcolor\":\"white\",\"linecolor\":\"white\",\"ticks\":\"\"},\"baxis\":{\"gridcolor\":\"white\",\"linecolor\":\"white\",\"ticks\":\"\"},\"caxis\":{\"gridcolor\":\"white\",\"linecolor\":\"white\",\"ticks\":\"\"}},\"coloraxis\":{\"colorbar\":{\"outlinewidth\":0,\"ticks\":\"\"}},\"colorscale\":{\"sequential\":[[0.0,\"#0d0887\"],[0.1111111111111111,\"#46039f\"],[0.2222222222222222,\"#7201a8\"],[0.3333333333333333,\"#9c179e\"],[0.4444444444444444,\"#bd3786\"],[0.5555555555555556,\"#d8576b\"],[0.6666666666666666,\"#ed7953\"],[0.7777777777777778,\"#fb9f3a\"],[0.8888888888888888,\"#fdca26\"],[1.0,\"#f0f921\"]],\"sequentialminus\":[[0.0,\"#0d0887\"],[0.1111111111111111,\"#46039f\"],[0.2222222222222222,\"#7201a8\"],[0.3333333333333333,\"#9c179e\"],[0.4444444444444444,\"#bd3786\"],[0.5555555555555556,\"#d8576b\"],[0.6666666666666666,\"#ed7953\"],[0.7777777777777778,\"#fb9f3a\"],[0.8888888888888888,\"#fdca26\"],[1.0,\"#f0f921\"]],\"diverging\":[[0,\"#8e0152\"],[0.1,\"#c51b7d\"],[0.2,\"#de77ae\"],[0.3,\"#f1b6da\"],[0.4,\"#fde0ef\"],[0.5,\"#f7f7f7\"],[0.6,\"#e6f5d0\"],[0.7,\"#b8e186\"],[0.8,\"#7fbc41\"],[0.9,\"#4d9221\"],[1,\"#276419\"]]},\"xaxis\":{\"gridcolor\":\"white\",\"linecolor\":\"white\",\"ticks\":\"\",\"title\":{\"standoff\":15},\"zerolinecolor\":\"white\",\"automargin\":true,\"zerolinewidth\":2},\"yaxis\":{\"gridcolor\":\"white\",\"linecolor\":\"white\",\"ticks\":\"\",\"title\":{\"standoff\":15},\"zerolinecolor\":\"white\",\"automargin\":true,\"zerolinewidth\":2},\"scene\":{\"xaxis\":{\"backgroundcolor\":\"#E5ECF6\",\"gridcolor\":\"white\",\"linecolor\":\"white\",\"showbackground\":true,\"ticks\":\"\",\"zerolinecolor\":\"white\",\"gridwidth\":2},\"yaxis\":{\"backgroundcolor\":\"#E5ECF6\",\"gridcolor\":\"white\",\"linecolor\":\"white\",\"showbackground\":true,\"ticks\":\"\",\"zerolinecolor\":\"white\",\"gridwidth\":2},\"zaxis\":{\"backgroundcolor\":\"#E5ECF6\",\"gridcolor\":\"white\",\"linecolor\":\"white\",\"showbackground\":true,\"ticks\":\"\",\"zerolinecolor\":\"white\",\"gridwidth\":2}},\"shapedefaults\":{\"line\":{\"color\":\"#2a3f5f\"}},\"annotationdefaults\":{\"arrowcolor\":\"#2a3f5f\",\"arrowhead\":0,\"arrowwidth\":1},\"geo\":{\"bgcolor\":\"white\",\"landcolor\":\"#E5ECF6\",\"subunitcolor\":\"white\",\"showland\":true,\"showlakes\":true,\"lakecolor\":\"white\"},\"title\":{\"x\":0.05},\"mapbox\":{\"style\":\"light\"}}},\"mapbox\":{\"domain\":{\"x\":[0.0,1.0],\"y\":[0.0,1.0]},\"center\":{\"lat\":35.44599999999999,\"lon\":-53.44022857142857},\"zoom\":0,\"style\":\"open-street-map\"},\"legend\":{\"tracegroupgap\":0},\"title\":{\"text\":\"Map with dots for hotels\"}},                        {\"responsive\": true}                    ).then(function(){\n",
       "                            \n",
       "var gd = document.getElementById('f12f77ca-13c4-4716-8c40-4aa4c49c2915');\n",
       "var x = new MutationObserver(function (mutations, observer) {{\n",
       "        var display = window.getComputedStyle(gd).display;\n",
       "        if (!display || display === 'none') {{\n",
       "            console.log([gd, 'removed!']);\n",
       "            Plotly.purge(gd);\n",
       "            observer.disconnect();\n",
       "        }}\n",
       "}});\n",
       "\n",
       "// Listen for the removal of the full notebook cells\n",
       "var notebookContainer = gd.closest('#notebook-container');\n",
       "if (notebookContainer) {{\n",
       "    x.observe(notebookContainer, {childList: true});\n",
       "}}\n",
       "\n",
       "// Listen for the clearing of the current output cell\n",
       "var outputEl = gd.closest('.output');\n",
       "if (outputEl) {{\n",
       "    x.observe(outputEl, {childList: true});\n",
       "}}\n",
       "\n",
       "                        })                };                });            </script>        </div>"
      ]
     },
     "metadata": {},
     "output_type": "display_data"
    }
   ],
   "source": [
    "%%capture --no-display\n",
    "\n",
    "# Configure the map plot\n",
    "fig = px.scatter_mapbox(\n",
    "    hotel_df,\n",
    "    lat=\"Lat\",\n",
    "    lon=\"Lng\",\n",
    "    hover_name=\"City\",\n",
    "    hover_data={\"Hotel Name\": True, \"Country\": True},\n",
    "    title=\"Map with dots for hotels\",\n",
    "    mapbox_style=\"open-street-map\",\n",
    "    zoom=0,\n",
    ")\n",
    "\n",
    "# Display the map\n",
    "fig.show()"
   ]
  },
  {
   "cell_type": "code",
   "execution_count": null,
   "metadata": {},
   "outputs": [],
   "source": []
  }
 ],
 "metadata": {
  "kernelspec": {
   "display_name": "Python 3 (ipykernel)",
   "language": "python",
   "name": "python3"
  },
  "language_info": {
   "codemirror_mode": {
    "name": "ipython",
    "version": 3
   },
   "file_extension": ".py",
   "mimetype": "text/x-python",
   "name": "python",
   "nbconvert_exporter": "python",
   "pygments_lexer": "ipython3",
   "version": "3.10.13"
  },
  "latex_envs": {
   "LaTeX_envs_menu_present": true,
   "autoclose": false,
   "autocomplete": true,
   "bibliofile": "biblio.bib",
   "cite_by": "apalike",
   "current_citInitial": 1,
   "eqLabelWithNumbers": true,
   "eqNumInitial": 1,
   "hotkeys": {
    "equation": "Ctrl-E",
    "itemize": "Ctrl-I"
   },
   "labels_anchors": false,
   "latex_user_defs": false,
   "report_style_numbering": false,
   "user_envs_cfg": false
  }
 },
 "nbformat": 4,
 "nbformat_minor": 4
}
